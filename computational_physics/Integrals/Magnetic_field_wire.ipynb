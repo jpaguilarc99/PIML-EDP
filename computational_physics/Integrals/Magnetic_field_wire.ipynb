{
 "cells": [
  {
   "cell_type": "markdown",
   "id": "f4419154",
   "metadata": {},
   "source": [
    "# Magnetic field of a charged wire\n"
   ]
  },
  {
   "cell_type": "markdown",
   "id": "9342fb0f",
   "metadata": {},
   "source": [
    "![hand](figure_05_hand.svg)\n",
    "\n",
    "https://upload.wikimedia.org/wikipedia/commons/3/3e/Manoderecha.svg"
   ]
  },
  {
   "cell_type": "markdown",
   "id": "f402257f",
   "metadata": {},
   "source": [
    "Using the Maxwell equations of magnetostatics (in their integral form) one can derive the vector potential of a current density distribution $ \\vec{j}(\\vec{r}) $\n",
    "\n",
    "$\n",
    "\\vec{A}(\\vec{r})=\\frac{\\mu_0}{4\\pi}\\int\\frac{\\vec{j}(\\vec{r}')}{|\\vec{r}-\\vec{r}'|}\\,\\mathrm{d}V'\\\\\n",
    "$\n",
    "\n",
    "from which we can calculate the magnetic field \n",
    "\n",
    "$ \n",
    "\\vec{B}(\\vec{r})=\\nabla\\times\\vec{A}(\\vec{r})\\\\\n",
    "$\n",
    "\n",
    "For more details on these equations, please consider my course: \"Electrodynamics based on Maxwell equations\" https://www.udemy.com/course/electrodynamics/"
   ]
  },
  {
   "cell_type": "code",
   "execution_count": 1,
   "id": "ce2064a4",
   "metadata": {},
   "outputs": [],
   "source": [
    "import numpy as np\n",
    "import matplotlib.pyplot as plt"
   ]
  },
  {
   "cell_type": "markdown",
   "id": "73703056",
   "metadata": {},
   "source": [
    "### Straight wire\n",
    "\n",
    "- along z axis\n",
    "- very long: length $ [-l_0,l_0]$ (we will only consider the xy plane, because all other planes will behave equally)\n",
    "- very thin: radius $r_0$ (basically non-zero only for $x = 0$, $y = 0$)"
   ]
  },
  {
   "cell_type": "code",
   "execution_count": 3,
   "id": "5274b866",
   "metadata": {},
   "outputs": [],
   "source": [
    "mu0 = 1\n",
    "\n",
    "# straight wire\n",
    "j0 = 1 # Ampere / meter^2\n",
    "r0 = 0.001 # m\n",
    "l0 = 1000 # m\n",
    "\n",
    "def j(r):\n",
    "    return np.array([0.0, 0.0, j0])"
   ]
  },
  {
   "cell_type": "code",
   "execution_count": 7,
   "id": "42789278",
   "metadata": {},
   "outputs": [
    {
     "data": {
      "text/plain": [
       "array([0., 0., 1.])"
      ]
     },
     "execution_count": 7,
     "metadata": {},
     "output_type": "execute_result"
    }
   ],
   "source": [
    "j(np.array([0, 0, 5]))"
   ]
  },
  {
   "cell_type": "code",
   "execution_count": 22,
   "metadata": {},
   "outputs": [],
   "source": [
    "coordMax = 4.9\n",
    "numpoints = 50\n",
    "d = 2*coordMax / (numpoints-1)\n",
    "\n",
    "# Coordinates\n",
    "coords = np.array(np.meshgrid(\n",
    "    np.linspace(-coordMax, coordMax, numpoints),\n",
    "    np.linspace(-coordMax, coordMax, numpoints),\n",
    "    np.zeros(1),\n",
    "    indexing='ij'\n",
    "))"
   ]
  },
  {
   "cell_type": "code",
   "execution_count": 23,
   "metadata": {},
   "outputs": [
    {
     "data": {
      "text/plain": [
       "array([-0.1,  0.1,  0. ])"
      ]
     },
     "execution_count": 23,
     "metadata": {},
     "output_type": "execute_result"
    }
   ],
   "source": [
    "coords[:, numpoints//2-1, numpoints//2, 0]"
   ]
  },
  {
   "cell_type": "code",
   "execution_count": 24,
   "metadata": {},
   "outputs": [],
   "source": [
    "# Vector potential\n",
    "A = np.array(np.meshgrid(\n",
    "    np.zeros(numpoints),\n",
    "    np.zeros(numpoints),\n",
    "    np.zeros(1),\n",
    "    indexing='ij'\n",
    "))"
   ]
  },
  {
   "cell_type": "code",
   "execution_count": 25,
   "metadata": {},
   "outputs": [
    {
     "data": {
      "text/plain": [
       "array([0., 0., 0.])"
      ]
     },
     "execution_count": 25,
     "metadata": {},
     "output_type": "execute_result"
    }
   ],
   "source": [
    "A[:, numpoints//2-1, numpoints//2, 0]"
   ]
  },
  {
   "cell_type": "code",
   "execution_count": 27,
   "metadata": {},
   "outputs": [],
   "source": [
    "numint = 5001\n",
    "\n",
    "for ix in np.arange(numpoints):\n",
    "    for iy in np.arange(numpoints):\n",
    "        r = np.array([-coordMax+ix*d, -coordMax+iy*d, 0.0])\n",
    "        for zj in np.linspace(-l0, l0, numint):\n",
    "            rj = np.array([ 0.0, 0.0, zj ])\n",
    "            A[:, ix, iy, 0] = A[:, ix, iy, 0] + j(rj) / np.sqrt( r[0]**2 + r[1]**2 + rj[2]**2 )"
   ]
  },
  {
   "cell_type": "code",
   "execution_count": 28,
   "metadata": {},
   "outputs": [],
   "source": [
    "dz = (2*l0) / (numint-1)\n",
    "#dx = (2*coordMax) / (numpoints-1)\n",
    "#dy = (2*coordMax) / (numpoints-1)\n",
    "#A *= mu0 / (4*np.pi) * dx * dy * dz\n",
    "df = np.pi * r0**2\n",
    "A *= mu0 / (4*np.pi) * df * dz"
   ]
  },
  {
   "cell_type": "code",
   "execution_count": 33,
   "metadata": {},
   "outputs": [
    {
     "data": {
      "image/png": "[encoded data removed]",
      "text/plain": [
       "<Figure size 640x480 with 2 Axes>"
      ]
     },
     "metadata": {},
     "output_type": "display_data"
    }
   ],
   "source": [
    "fig = plt.figure()\n",
    "ax = fig.add_subplot(1, 1, 1)\n",
    "ax.set_aspect(1)\n",
    "plt.xlabel('x coordinate')\n",
    "plt.ylabel('y coordinate')\n",
    "\n",
    "plt.contourf(coords[0, :, :, 0], coords[1, :, :, 0], A[2, :, :, 0])\n",
    "cbar = plt.colorbar()\n",
    "cbar.set_label('Vectorpontential Az')"
   ]
  },
  {
   "cell_type": "markdown",
   "id": "4794fa59",
   "metadata": {},
   "source": [
    "__Analytical solution:__\n",
    "\n",
    "$ \\vec{A}(\\vec{r}) = \\frac{\\mu_0}{2\\pi}jF\\log\\frac{2l_0}{\\sqrt{x^2+y^2}}\\vec{e}_z$\n",
    "\n",
    "For more details on these equations, please consider my course: \"Electrodynamics based on Maxwell equations\" https://www.udemy.com/course/electrodynamics/\n",
    "\n",
    "![derivation_wire](figure_05_derivation_wire.png)"
   ]
  },
  {
   "cell_type": "code",
   "execution_count": 34,
   "id": "e197330e",
   "metadata": {},
   "outputs": [
    {
     "data": {
      "text/plain": [
       "[<matplotlib.lines.Line2D at 0x1a35b75b090>]"
      ]
     },
     "execution_count": 34,
     "metadata": {},
     "output_type": "execute_result"
    },
    {
     "data": {
      "image/png": "[encoded data removed]",
      "text/plain": [
       "<Figure size 640x480 with 1 Axes>"
      ]
     },
     "metadata": {},
     "output_type": "display_data"
    }
   ],
   "source": [
    "plt.xlabel('x coordinate')\n",
    "plt.ylabel('Az')\n",
    "\n",
    "plt.scatter(coords[0, :, numpoints//2, 0], A[2, :, numpoints//2, 0])\n",
    "\n",
    "x_list = np.linspace(-coordMax, coordMax, 10001)\n",
    "plt.plot(\n",
    "    x_list,\n",
    "    mu0/(2*np.pi) * j0 * df * np.log( 2*l0/ np.sqrt( x_list**2 + coords[1, 0, numpoints//2, 0]**2 ) ),\n",
    "    'red'\n",
    ")"
   ]
  },
  {
   "cell_type": "markdown",
   "id": "bc0da924",
   "metadata": {},
   "source": [
    "__We can calculate the magnetic field__\n",
    "\n",
    "\n",
    "$$\n",
    "\\vec{B}(\\vec{r})=\\nabla\\times\\vec{A}(\\vec{r})=\\begin{pmatrix}\n",
    "\\frac{\\partial}{\\partial y}A_z(\\vec{r}) - \\frac{\\partial}{\\partial z}A_y(\\vec{r})\\\\\n",
    "\\frac{\\partial}{\\partial z}A_x(\\vec{r}) - \\frac{\\partial}{\\partial x}A_z(\\vec{r})\\\\\n",
    "\\frac{\\partial}{\\partial x}A_y(\\vec{r}) - \\frac{\\partial}{\\partial y}A_x(\\vec{r})\n",
    "\\end{pmatrix}\n",
    "$$\n",
    "\n",
    "\n",
    "Since the vector potential only changes in the xy plane and is considered to be constant along z (for infinite $(l_0)$), we know\n",
    "$\n",
    "\\frac{\\partial }{\\partial z} A_x(\\vec{r}) = \\frac{\\partial }{\\partial z} A_y(\\vec{r}) = 0\n",
    "$"
   ]
  },
  {
   "cell_type": "code",
   "execution_count": null,
   "id": "e55454f2",
   "metadata": {},
   "outputs": [],
   "source": []
  },
  {
   "cell_type": "markdown",
   "id": "baf9bf8f",
   "metadata": {},
   "source": [
    "__Analytical solution:__\n",
    "\n",
    "$ \\vec{B}(\\vec{r}) = \\frac{\\mu_0}{2\\pi}jF\\frac{1}{\\sqrt{x^2+y^2}}\\begin{pmatrix}-y\\\\x\\\\0\\end{pmatrix}$"
   ]
  },
  {
   "cell_type": "code",
   "execution_count": null,
   "id": "86215d89",
   "metadata": {},
   "outputs": [],
   "source": []
  },
  {
   "cell_type": "markdown",
   "id": "c501d3d6",
   "metadata": {},
   "source": [
    "![hand](figure_05_hand.svg)\n",
    "\n",
    "https://upload.wikimedia.org/wikipedia/commons/3/3e/Manoderecha.svg"
   ]
  }
 ],
 "metadata": {
  "kernelspec": {
   "display_name": "Python 3 (ipykernel)",
   "language": "python",
   "name": "python3"
  },
  "language_info": {
   "codemirror_mode": {
    "name": "ipython",
    "version": 3
   },
   "file_extension": ".py",
   "mimetype": "text/x-python",
   "name": "python",
   "nbconvert_exporter": "python",
   "pygments_lexer": "ipython3",
   "version": "3.11.3"
  }
 },
 "nbformat": 4,
 "nbformat_minor": 5
}
