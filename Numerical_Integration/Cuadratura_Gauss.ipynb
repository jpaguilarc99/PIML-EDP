{
 "cells": [
  {
   "cell_type": "code",
   "execution_count": 1,
   "metadata": {},
   "outputs": [
    {
     "name": "stdout",
     "output_type": "stream",
     "text": [
      "Resultado de la integral: 0.000000\n"
     ]
    }
   ],
   "source": [
    "import numpy as np\n",
    "from scipy.special import legendre\n",
    "\n",
    "def gauss_quad_manual(func, a, b, n):    \n",
    "    Pn = legendre(n)\n",
    "    \n",
    "    x = np.linspace(-1, 1, n)\n",
    "    for i in range(n):\n",
    "        x[i] = newton_method(Pn, x[i])\n",
    "    \n",
    "    w = 2 / ((1 - x**2) * (Pn.deriv()(x))**2)\n",
    "    \n",
    "    t = 0.5*(x + 1)*(b - a) + a\n",
    "    \n",
    "    return np.sum(w * func(t)) * 0.5*(b - a)\n",
    "\n",
    "def newton_method(Pn, x0, tol=1e-10, max_iter=100):    \n",
    "    x = x0\n",
    "    for _ in range(max_iter):\n",
    "        x_new = x - Pn(x) / Pn.deriv()(x)\n",
    "        if abs(x_new - x) < tol:\n",
    "            return x_new\n",
    "        x = x_new\n",
    "    return x\n",
    "\n",
    "# Define la función a integrar\n",
    "f = lambda x: np.sin(2*x)\n",
    "\n",
    "# Define los límites de integración\n",
    "a = 0\n",
    "b = np.pi\n",
    "\n",
    "# Define el número de puntos a usar en la cuadratura\n",
    "n = 5\n",
    "\n",
    "# Calcula la integral usando cuadratura gaussiana\n",
    "integral = gauss_quad_manual(f, a, b, n)\n",
    "\n",
    "print(f\"Resultado de la integral: {integral:.6f}\")"
   ]
  }
 ],
 "metadata": {
  "kernelspec": {
   "display_name": "tesis-setup",
   "language": "python",
   "name": "python3"
  },
  "language_info": {
   "codemirror_mode": {
    "name": "ipython",
    "version": 3
   },
   "file_extension": ".py",
   "mimetype": "text/x-python",
   "name": "python",
   "nbconvert_exporter": "python",
   "pygments_lexer": "ipython3",
   "version": "3.11.7"
  }
 },
 "nbformat": 4,
 "nbformat_minor": 2
}
