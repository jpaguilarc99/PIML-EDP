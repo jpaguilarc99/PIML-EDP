{
 "cells": [
  {
   "cell_type": "markdown",
   "metadata": {},
   "source": [
    "## Cuadratura de Gauss"
   ]
  },
  {
   "cell_type": "markdown",
   "metadata": {},
   "source": [
    "La cuadratura Gaussiana es un método numérico utilizado para aproximar la integral definida de una función. La fórmula general de la cuadratura Gaussiana es:\n",
    "\n",
    "$$ \\int_{a}^{b} f(x) \\,dx \\approx \\sum_{i=1}^{n} w_i \\cdot f(x_i) $$\n",
    "\n",
    "donde $x_i$ son los puntos de evaluación y $w_i$ son los pesos asociados.\n",
    "\n",
    "**Pasos para la cuadratura Gaussiana**\n",
    "\n",
    "1. **Cambio de variable:**\n",
    "   Para adaptar la cuadratura Gaussiana a cualquier intervalo $[a, b]$, se realiza un cambio de variable $t$ en el intervalo estándar $[-1, 1]$:\n",
    "\n",
    "   $$x(t) = \\frac{b - a}{2} \\cdot t + \\frac{a + b}{2}$$\n",
    "\n",
    "2. **Selección de puntos y pesos:**\n",
    "   Los puntos de evaluación $x_i$ y los pesos $w_i$ se seleccionan de manera óptima. Para la cuadratura Gaussiana con $n$ puntos, estos se obtienen de las raíces y pesos de los polinomios ortogonales asociados.\n",
    "\n",
    "3. **Aproximación de la integral:**\n",
    "   Con los puntos de evaluación y los pesos seleccionados, la integral definida se aproxima utilizando la fórmula de cuadratura Gaussiana:\n",
    "\n",
    "   $$ \\int_{a}^{b} f(x) \\,dx \\approx \\frac{b - a}{2} \\sum_{i=1}^{n} w_i \\cdot f\\left(\\frac{b - a}{2} \\cdot x_i + \\frac{a + b}{2}\\right) $$\n",
    "\n",
    "**Ejemplo con cuadratura Gaussiana de 3 puntos**\n",
    "\n",
    "Supongamos que queremos aproximar la integral definida de una función $f(x)$ en el intervalo $[a, b]$ utilizando la cuadratura Gaussiana con 3 puntos. La fórmula sería:\n",
    "\n",
    "$$ \\int_{a}^{b} f(x) \\,dx \\approx \\frac{b - a}{2} \\left[ w_1 \\cdot f\\left(\\frac{b - a}{2} \\cdot x_1 + \\frac{a + b}{2}\\right) + w_2 \\cdot f\\left(\\frac{b - a}{2} \\cdot x_2 + \\frac{a + b}{2}\\right) + w_3 \\cdot f\\left(\\frac{b - a}{2} \\cdot x_3 + \\frac{a + b}{2}\\right) \\right] $$\n",
    "\n",
    "En este caso, los puntos $x_i$ y los pesos $w_i$ se deben seleccionar según la cuadratura Gaussiana de 3 puntos en el intervalo estándar $[-1, 1]$.\n"
   ]
  },
  {
   "cell_type": "code",
   "execution_count": 18,
   "metadata": {},
   "outputs": [
    {
     "name": "stdout",
     "output_type": "stream",
     "text": [
      "Resultado de la integral (manual): 0.000000\n",
      "Resultado de la integral (scipy): 0.000000\n",
      "Diferencia entre los resultados: 0.000000\n"
     ]
    }
   ],
   "source": [
    "import numpy as np\n",
    "from numpy.polynomial import legendre as leg\n",
    "from scipy.integrate import quad\n",
    "\n",
    "def gauss_quad_manual(func, a, b, n):\n",
    "    \"\"\"\n",
    "    Approximate the integral of a function using Gaussian quadrature.\n",
    "\n",
    "    Parameters:\n",
    "    func (function): The function to integrate.\n",
    "    a (float): The start of the integration interval.\n",
    "    b (float): The end of the integration interval.\n",
    "    n (int): The number of nodes to use for the approximation.\n",
    "\n",
    "    Returns:\n",
    "    float: The approximate integral of the function over the interval [a, b].\n",
    "    \"\"\"\n",
    "    # Calculate the nodes (roots of the Legendre polynomial)\n",
    "    nodes = leg.legroots(leg.legder([0]*n + [1]))\n",
    "\n",
    "    # Calculate the weights\n",
    "    weights = 2 / ((1 - nodes**2) * (leg.legval(nodes, leg.legder([0]*(n-1) + [1], m=2)))**2)\n",
    "\n",
    "    # Transform the nodes to the interval [a, b]\n",
    "    t = 0.5*(nodes + 1)*(b - a) + a\n",
    "\n",
    "    # Calculate the integral\n",
    "    integral = np.sum(weights * func(t)) * 0.5*(b - a)\n",
    "\n",
    "    return integral\n",
    "\n",
    "def main():\n",
    "    # Define the function to integrate\n",
    "    f = lambda x: np.sin(2*x)\n",
    "\n",
    "    # Define the integration limits\n",
    "    a = 0\n",
    "    b = np.pi\n",
    "\n",
    "    # Define the number of points to use in the quadrature\n",
    "    n = 5\n",
    "\n",
    "    # Calculate the integral using Gaussian quadrature\n",
    "    integral_manual = gauss_quad_manual(f, a, b, n)\n",
    "    print(f\"Resultado de la integral (manual): {integral_manual:.6f}\")\n",
    "\n",
    "    # Calculate the integral using scipy.integrate.quad\n",
    "    integral_scipy, _ = quad(f, a, b)\n",
    "    print(f\"Resultado de la integral (scipy): {integral_scipy:.6f}\")\n",
    "\n",
    "    # Calculate and print the difference between the two results\n",
    "    difference = abs(integral_manual - integral_scipy)\n",
    "    print(f\"Diferencia entre los resultados: {difference:.6f}\")\n",
    "\n",
    "if __name__ == \"__main__\":\n",
    "    main()"
   ]
  }
 ],
 "metadata": {
  "kernelspec": {
   "display_name": "tesis-setup",
   "language": "python",
   "name": "python3"
  },
  "language_info": {
   "codemirror_mode": {
    "name": "ipython",
    "version": 3
   },
   "file_extension": ".py",
   "mimetype": "text/x-python",
   "name": "python",
   "nbconvert_exporter": "python",
   "pygments_lexer": "ipython3",
   "version": "3.11.7"
  }
 },
 "nbformat": 4,
 "nbformat_minor": 2
}
