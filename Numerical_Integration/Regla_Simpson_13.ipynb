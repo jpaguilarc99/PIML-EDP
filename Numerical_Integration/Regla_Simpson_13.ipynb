{
 "cells": [
  {
   "cell_type": "code",
   "execution_count": 2,
   "metadata": {},
   "outputs": [],
   "source": [
    "import numpy as np \n",
    "import matplotlib.pyplot as plt"
   ]
  },
  {
   "cell_type": "markdown",
   "metadata": {},
   "source": [
    "**Algoritmo conceptual**"
   ]
  },
  {
   "cell_type": "code",
   "execution_count": 5,
   "metadata": {},
   "outputs": [
    {
     "name": "stdout",
     "output_type": "stream",
     "text": [
      "Numerical Integration = 0.000000\n"
     ]
    }
   ],
   "source": [
    "f = lambda x: np.sin(2*x) # function to integrate\n",
    "a = 0\n",
    "b = np.pi\n",
    "n = 50\n",
    "h = (b - a) / n\n",
    "\n",
    "i_sum = f(a) + f(b)\n",
    "for i in range(1, n):\n",
    "    if i % 2 != 0:\n",
    "        i_sum += 4 * f(a + i * h)\n",
    "    if i % 2 == 0:\n",
    "        i_sum += 2 * f(a + i * h)\n",
    "   \n",
    "Integral = (1/3) * h * i_sum\n",
    "print(f\"Numerical Integration = {Integral:.6f}\")"
   ]
  }
 ],
 "metadata": {
  "kernelspec": {
   "display_name": "tesis-setup",
   "language": "python",
   "name": "python3"
  },
  "language_info": {
   "codemirror_mode": {
    "name": "ipython",
    "version": 3
   },
   "file_extension": ".py",
   "mimetype": "text/x-python",
   "name": "python",
   "nbconvert_exporter": "python",
   "pygments_lexer": "ipython3",
   "version": "3.11.7"
  }
 },
 "nbformat": 4,
 "nbformat_minor": 2
}
