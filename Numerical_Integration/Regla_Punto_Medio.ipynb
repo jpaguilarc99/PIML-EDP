{
 "cells": [
  {
   "cell_type": "code",
   "execution_count": 1,
   "metadata": {},
   "outputs": [],
   "source": [
    "import numpy as np"
   ]
  },
  {
   "cell_type": "code",
   "execution_count": 10,
   "metadata": {},
   "outputs": [
    {
     "name": "stdout",
     "output_type": "stream",
     "text": [
      "Resultado de la integral: 0.000000\n"
     ]
    }
   ],
   "source": [
    "def midpoint_rule(func, a, b, n):    \n",
    "    h = (b - a) / n\n",
    "    \n",
    "    suma = 0\n",
    "    \n",
    "    for i in range(n):\n",
    "        xi = a + h/2 + i*h\n",
    "        suma += func(xi)\n",
    "    \n",
    "    return suma * h\n",
    "\n",
    "f = lambda x: np.sin(2*x)\n",
    "\n",
    "a = 0\n",
    "b = np.pi\n",
    "\n",
    "n = 100\n",
    "\n",
    "integral = midpoint_rule(f, a, b, n)\n",
    "\n",
    "print(f\"Resultado de la integral: {integral:.6f}\")"
   ]
  }
 ],
 "metadata": {
  "kernelspec": {
   "display_name": "tesis-setup",
   "language": "python",
   "name": "python3"
  },
  "language_info": {
   "codemirror_mode": {
    "name": "ipython",
    "version": 3
   },
   "file_extension": ".py",
   "mimetype": "text/x-python",
   "name": "python",
   "nbconvert_exporter": "python",
   "pygments_lexer": "ipython3",
   "version": "3.11.7"
  }
 },
 "nbformat": 4,
 "nbformat_minor": 2
}
