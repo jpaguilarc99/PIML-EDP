{
 "cells": [
  {
   "cell_type": "code",
   "execution_count": 2,
   "metadata": {},
   "outputs": [],
   "source": [
    "import numpy as np \n",
    "import matplotlib.pyplot as plt"
   ]
  },
  {
   "cell_type": "code",
   "execution_count": 1,
   "metadata": {},
   "outputs": [
    {
     "name": "stdout",
     "output_type": "stream",
     "text": [
      "tramos:  6\n",
      "Integral con Simpson 3/8:  2.0542043057079566\n"
     ]
    }
   ],
   "source": [
    "def integrasimpson38_fi(xi,fi,tolera = 1e-10):\n",
    "    ''' sobre muestras de fi para cada xi\n",
    "        integral con método de Simpson 3/8\n",
    "        respuesta es np.nan para tramos desiguales,\n",
    "        no hay suficientes puntos.\n",
    "    '''\n",
    "    n = len(xi)\n",
    "    i = 0\n",
    "    suma = 0\n",
    "    while not(i>=(n-3)):\n",
    "        h  = xi[i+1]-xi[i]\n",
    "        h1 = (xi[i+2]-xi[i+1])\n",
    "        h2 = (xi[i+3]-xi[i+2])\n",
    "        dh = abs(h-h1)+abs(h-h2)\n",
    "        if dh<tolera:# tramos iguales\n",
    "            unS38 = fi[i]+3*fi[i+1]+3*fi[i+2]+fi[i+3]\n",
    "            unS38 = (3/8)*h*unS38\n",
    "            suma = suma + unS38\n",
    "        else:  # tramos desiguales\n",
    "            suma = 'tramos desiguales'\n",
    "        i = i + 3\n",
    "    if (i+1)<n: # incompleto, tramos por calcular\n",
    "        suma = 'tramos incompletos, faltan '\n",
    "        suma = suma +str(n-(i+1))+' tramos'\n",
    "    return(suma)\n",
    "\n",
    "# PROGRAMA -----------------\n",
    "# INGRESO\n",
    "xi = [1.        , 1.33333333, 1.66666667, 2.        ,\n",
    "      2.33333333, 2.66666667, 3.        ]\n",
    "fi = [0.84147098, 1.12229722, 1.28506615, 1.28594075,\n",
    "      1.10453193, 0.74672307, 0.24442702]\n",
    "tolera = 1e-7\n",
    "\n",
    "# PROCEDIMIENTO\n",
    "n = len(xi)-1\n",
    "Area = integrasimpson38_fi(xi,fi,tolera)\n",
    "\n",
    "# SALIDA\n",
    "print('tramos: ',n)\n",
    "print('Integral con Simpson 3/8: ',Area)\n",
    "if type(Area)==str:\n",
    "    print('  Revisar errores')"
   ]
  },
  {
   "cell_type": "code",
   "execution_count": null,
   "metadata": {},
   "outputs": [],
   "source": []
  }
 ],
 "metadata": {
  "kernelspec": {
   "display_name": "tesis-setup",
   "language": "python",
   "name": "python3"
  },
  "language_info": {
   "codemirror_mode": {
    "name": "ipython",
    "version": 3
   },
   "file_extension": ".py",
   "mimetype": "text/x-python",
   "name": "python",
   "nbconvert_exporter": "python",
   "pygments_lexer": "ipython3",
   "version": "3.11.7"
  }
 },
 "nbformat": 4,
 "nbformat_minor": 2
}
