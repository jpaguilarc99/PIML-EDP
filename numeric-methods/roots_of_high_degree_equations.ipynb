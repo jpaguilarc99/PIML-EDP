{
 "cells": [
  {
   "cell_type": "markdown",
   "metadata": {},
   "source": [
    "## Newton-Raphson Method"
   ]
  },
  {
   "cell_type": "markdown",
   "metadata": {},
   "source": [
    "El método de Newton Raphson se define como: \n",
    "\n",
    "$x_{new} = x_n - \\frac{f(x_n)}{f'(x_n)}$"
   ]
  },
  {
   "cell_type": "markdown",
   "metadata": {},
   "source": [
    "Ejercicio: Encuentra las raices de la siguiente ecuación:\n",
    "\n",
    "* $2x^2 - 5x + 3 = 0$\n",
    "\n",
    "Las soluciones analíticas son $x = 1.5$ y $x = 1$"
   ]
  },
  {
   "cell_type": "markdown",
   "metadata": {},
   "source": [
    "El primer paso es poner la ecuación dada en forma de función y luego encontrar su primera derivada.\n",
    "\n",
    "* $f(x) = 2x^2 - 5x + 3 = 0$"
   ]
  },
  {
   "cell_type": "markdown",
   "metadata": {},
   "source": [
    "Su primera derivada es:\n",
    "\n",
    "* $f'(x) = 4x - 5$"
   ]
  },
  {
   "cell_type": "markdown",
   "metadata": {},
   "source": [
    "Por lo que reemplazando en la definición del método:\n",
    "\n",
    "$x_{new} = x - \\frac{2x^2 - 5x + 3}{4x - 5}$"
   ]
  },
  {
   "cell_type": "code",
   "execution_count": 11,
   "metadata": {},
   "outputs": [
    {
     "name": "stdout",
     "output_type": "stream",
     "text": [
      "The root of the equation is 1.5000 and the number of iterations is 8\n"
     ]
    }
   ],
   "source": [
    "x = 3.7\n",
    "for iteration in range(1, 101):\n",
    "    xnew = x - (2*x**2 - 5*x + 3)/(4*x - 5)\n",
    "    if abs(xnew - x) < 1e-6:\n",
    "        break\n",
    "    x = xnew\n",
    "print(\n",
    "    f\"The root of the equation is {xnew:.4f} and the number of iterations is {iteration}\"\n",
    ")"
   ]
  },
  {
   "cell_type": "markdown",
   "metadata": {},
   "source": [
    "## Bisection Method\n",
    "\n",
    "1. Ingresar dos valores de x que cubran el intervalo donde está esperada la raíz.\n",
    "2. Calcular los valores correspondientes de y1 y y2\n",
    "3. Verificar los signos entre y1 y y2\n",
    "4. Si los signos no son opuesto, detenerse\n",
    "5. Calcular el valor de x en el medio del intervalo\n",
    "6. Verificar la diferencia entre los signos de y1 y y2 en el primer punto medio del intervalo\n",
    "7. Si los signos son opuestos, sean x1 y x2 los limites del primer punto medio del intervalo\n",
    "8. De lo contrario, sean x1 y x2 los limites del segundo punto medio del intervalo\n",
    "9. Si los valores de y se aproximan a cero, detenerse.\n",
    "10. De lo contrario, repetir los pasos 5 al 10."
   ]
  },
  {
   "cell_type": "markdown",
   "metadata": {},
   "source": [
    "$2x^2 - 5x + 3 = 0$\n",
    "\n",
    "Las soluciones analiticas son x=1.5 y x=1.0\n",
    "\n",
    "Reescribimos la ecuacion\n",
    "\n",
    "$y = 2x^2 - 5x + 3$"
   ]
  },
  {
   "cell_type": "code",
   "execution_count": 15,
   "metadata": {},
   "outputs": [
    {
     "name": "stdout",
     "output_type": "stream",
     "text": [
      "Root in the first half interval: 1.1000 to 1.5500: y: 0.055000\n",
      "Root in the second half interval: 1.3250 to 1.5500: y: -0.113750\n",
      "Root in the second half interval: 1.4375 to 1.5500: y: -0.054688\n",
      "Root in the second half interval: 1.4937 to 1.5500: y: -0.006172\n",
      "Root in the first half interval: 1.4937 to 1.5219: y: 0.022832\n",
      "Root in the first half interval: 1.4937 to 1.5078: y: 0.007935\n",
      "Root in the first half interval: 1.4937 to 1.5008: y: 0.000782\n",
      "Root in the second half interval: 1.4973 to 1.5008: y: -0.002719\n",
      "Root in the second half interval: 1.4990 to 1.5008: y: -0.000975\n",
      "Root in the second half interval: 1.4999 to 1.5008: y: -0.000098\n",
      "Root in the first half interval: 1.4999 to 1.5003: y: 0.000342\n",
      "Root in the first half interval: 1.4999 to 1.5001: y: 0.000122\n",
      "Root in the first half interval: 1.4999 to 1.5000: y: 0.000012\n",
      "Root in the second half interval: 1.5000 to 1.5000: y: -0.000043\n",
      "Root in the second half interval: 1.5000 to 1.5000: y: -0.000015\n",
      "Root in the second half interval: 1.5000 to 1.5000: y: -0.000002\n",
      "Root in the first half interval: 1.5000 to 1.5000: y: 0.000005\n",
      "Root in the first half interval: 1.5000 to 1.5000: y: 0.000002\n",
      "The root of the equation is 1.5000 and the number of bisections is 19\n"
     ]
    }
   ],
   "source": [
    "# x1 and x2 for the range for bisection\n",
    "x1 = 1.1\n",
    "x2 = 2.0\n",
    "y1 = 2*x1**2 - 5*x1 + 3\n",
    "y2 = 2*x2**2 - 5*x2 + 3\n",
    "if y1*y2 > 0:\n",
    "    print(\"No root in the given range\")\n",
    "    exit()\n",
    "for bisection in range(1, 101): # 100 bisections\n",
    "    xh = (x1 + x2) / 2\n",
    "    yh = 2*xh**2 - 5*xh + 3\n",
    "    y1 = 2*x1**2 - 5*x1 + 3\n",
    "    if abs(yh) < 1e-6:        \n",
    "        break\n",
    "    elif y1*yh < 0: # If the root is in the first half interval\n",
    "        print(f\"Root in the first half interval: {x1:.4f} to {xh:.4f}: y: {yh:.6f}\")\n",
    "        x2 = xh\n",
    "    else: # If the root is in the second half interval\n",
    "        print(f\"Root in the second half interval: {xh:.4f} to {x2:.4f}: y: {yh:.6f}\")\n",
    "        x1 = xh\n",
    "print(f\"The root of the equation is {xh:.4f} and the number of bisections is {bisection}\")"
   ]
  },
  {
   "cell_type": "markdown",
   "metadata": {},
   "source": [
    "## False Position (Regula Falsi) Method"
   ]
  },
  {
   "cell_type": "markdown",
   "metadata": {},
   "source": [
    "1. Ingresar dos valores de x que cubran el intervalo donde está esperada la raíz.\n",
    "2. Calcular los valores correspondientes de y1 y y2\n",
    "3. Verificar los signos entre y1 y y2\n",
    "4. Si los signos no son opuestos, detenerse\n",
    "5. Calcular los valores de xh y yh\n",
    "6. Si |yh| se aproxima a cero, detener el algoritmo\n",
    "7. Si y1 y yh tienen signos opuestos, sea x2=xh y y2=yh\n",
    "8. De lo contrario, sea x1=xh y y1=yh\n",
    "9. Repetir pasos desde el paso 5"
   ]
  },
  {
   "cell_type": "code",
   "execution_count": 1,
   "metadata": {},
   "outputs": [],
   "source": [
    "# Metodo de Regula Falsi\n",
    "def rfalsi(fn, x1, x2, tol=0.001, ilimit=100):\n",
    "    y1 = fn(x1)\n",
    "    y2 = fn(x2)\n",
    "    xh = 0\n",
    "    ipos = 0\n",
    "    if y1 == 0: xh = x1\n",
    "    elif y2 == 0: xh = x2\n",
    "    elif y1*y2 > 0:\n",
    "        print(\"No root in the given range\")\n",
    "        exit()\n",
    "    else:\n",
    "        for ipos in range(1, ilimit+1):\n",
    "            xh = x2 - y2*(x2 - x1)/(y2 - y1)\n",
    "            yh = fn(xh)\n",
    "            if abs(yh) < tol: break\n",
    "            elif y1*yh < 0:\n",
    "                x2 = xh\n",
    "                y2 = yh\n",
    "            else:\n",
    "                x1 = xh\n",
    "                y1 = yh\n",
    "    return xh, ipos"
   ]
  },
  {
   "cell_type": "markdown",
   "metadata": {},
   "source": [
    "Encontremos las raices de la ecuacion\n",
    "\n",
    "$2x^2 - 5x + 3 = 0$\n",
    "\n",
    "Las soluciones analiticas son x=1.5 y x=1.0\n",
    "\n",
    "Reescribimos la ecuacion\n",
    "\n",
    "$y(x) = 2x^2 - 5x + 3$"
   ]
  },
  {
   "cell_type": "code",
   "execution_count": 3,
   "metadata": {},
   "outputs": [
    {
     "name": "stdout",
     "output_type": "stream",
     "text": [
      "The root of the equation is 1.000001 and the number of iterations is 26\n"
     ]
    }
   ],
   "source": [
    "x1 = 0.25\n",
    "x2 = 1.23\n",
    "def fn(x):\n",
    "    return 2*x**2 - 5*x + 3\n",
    "x, n = rfalsi(fn, x1, x2, tol=1e-6, ilimit=100)\n",
    "print(f\"The root of the equation is {x:.6f} and the number of iterations is {n}\")"
   ]
  },
  {
   "cell_type": "markdown",
   "metadata": {},
   "source": [
    "Encontremos las raices de la ecuacion\n",
    "\n",
    "$x^2 + cos^2x - 4x = 0$\n",
    "\n",
    "Las soluciones analiticas son x=0.25032 y x=3.8503\n",
    "\n",
    "Reescribimos la ecuacion\n",
    "\n",
    "$y(x) = x^2 + cos^2x - 4x$"
   ]
  },
  {
   "cell_type": "code",
   "execution_count": 4,
   "metadata": {},
   "outputs": [
    {
     "name": "stdout",
     "output_type": "stream",
     "text": [
      "The root of the equation is 3.850300 and the number of iterations is 5\n"
     ]
    }
   ],
   "source": [
    "import math\n",
    "x1 = 3.1\n",
    "x2 = 3.95\n",
    "def fn(x):\n",
    "    return x**2 + math.cos(x)**2 - 4*x\n",
    "x, n = rfalsi(fn, x1, x2, tol=1e-6, ilimit=100)\n",
    "print(f\"The root of the equation is {x:.6f} and the number of iterations is {n}\")"
   ]
  },
  {
   "cell_type": "markdown",
   "metadata": {},
   "source": [
    "## Secant Method"
   ]
  },
  {
   "cell_type": "code",
   "execution_count": 3,
   "metadata": {},
   "outputs": [
    {
     "name": "stdout",
     "output_type": "stream",
     "text": [
      "The root of the equation is 1.500000 and the number of iterations is 9\n"
     ]
    }
   ],
   "source": [
    "def secant(fn, x1, x2, tol, maxiter):\n",
    "    for iteration in range(1, maxiter+1):\n",
    "        xnew = x2 - (x2 - x1) / (fn(x2) - fn(x1)) * fn(x2)\n",
    "        if abs(xnew-x2) < tol: break\n",
    "        else:\n",
    "            x1 = x2\n",
    "            x2 = xnew\n",
    "    else:\n",
    "        print(\"Maximum number of iterations exceeded\")        \n",
    "    return xnew, iteration\n",
    "\n",
    "f = lambda x: 2*x**2 - 5*x + 3\n",
    "x1 = 0.0\n",
    "x2 = 2.0\n",
    "\n",
    "r, n = secant(f, x1, x2, tol=1e-6, maxiter=100)\n",
    "print(f\"The root of the equation is {r:.6f} and the number of iterations is {n}\")"
   ]
  },
  {
   "cell_type": "markdown",
   "metadata": {},
   "source": [
    "## Root Finding functions in SciPy\n",
    "\n",
    "En Scipy, hay muchas funciones definidas en los modulos de optimización y hallazgo de raíces: scipy.otpimize sirve para resolver diferentes tipos de ecuaciones con métodos numéricos avanzados\n",
    "\n",
    "newton(f, x0)\n",
    "\n",
    "bisect(f, x1, x2)\n",
    "\n",
    "fsolve(f, x0)\n",
    "\n",
    "root(f, x0)\n",
    "\n",
    "Donde f es la funcion dada, x0 es el valor inicial y, x1 y x2 son el intervalo inicial."
   ]
  },
  {
   "cell_type": "code",
   "execution_count": 4,
   "metadata": {},
   "outputs": [
    {
     "data": {
      "text/plain": [
       "0.9999999998968079"
      ]
     },
     "execution_count": 4,
     "metadata": {},
     "output_type": "execute_result"
    }
   ],
   "source": [
    "from scipy.optimize import newton, bisect, fsolve, root  \n",
    "f = lambda x: 2*x**2 - 5*x + 3\n",
    "newton(f, 0.0, tol=1e-6, maxiter=100)"
   ]
  },
  {
   "cell_type": "code",
   "execution_count": 6,
   "metadata": {},
   "outputs": [
    {
     "data": {
      "text/plain": [
       "1.0000001907348632"
      ]
     },
     "execution_count": 6,
     "metadata": {},
     "output_type": "execute_result"
    }
   ],
   "source": [
    "bisect(f, 0.0, 1.2, xtol=1e-6, maxiter=100)"
   ]
  },
  {
   "cell_type": "code",
   "execution_count": 8,
   "metadata": {},
   "outputs": [
    {
     "data": {
      "text/plain": [
       "1.0000000000000002"
      ]
     },
     "execution_count": 8,
     "metadata": {},
     "output_type": "execute_result"
    }
   ],
   "source": [
    "fsolve(f, 0.0)[0]"
   ]
  },
  {
   "cell_type": "code",
   "execution_count": 12,
   "metadata": {},
   "outputs": [
    {
     "data": {
      "text/plain": [
       "1.0000000000000002"
      ]
     },
     "execution_count": 12,
     "metadata": {},
     "output_type": "execute_result"
    }
   ],
   "source": [
    "root(f, 0.0, tol=1e-6).x[0]"
   ]
  }
 ],
 "metadata": {
  "kernelspec": {
   "display_name": "data-science",
   "language": "python",
   "name": "python3"
  },
  "language_info": {
   "codemirror_mode": {
    "name": "ipython",
    "version": 3
   },
   "file_extension": ".py",
   "mimetype": "text/x-python",
   "name": "python",
   "nbconvert_exporter": "python",
   "pygments_lexer": "ipython3",
   "version": "3.11.3"
  }
 },
 "nbformat": 4,
 "nbformat_minor": 2
}
