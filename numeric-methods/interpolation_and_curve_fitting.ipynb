{
 "cells": [
  {
   "cell_type": "markdown",
   "metadata": {},
   "source": [
    "## Linear Interpolation"
   ]
  },
  {
   "cell_type": "code",
   "execution_count": 2,
   "metadata": {},
   "outputs": [
    {
     "name": "stdout",
     "output_type": "stream",
     "text": [
      "The temperature at 50 minutes is 66.4 degrees Celsius.\n"
     ]
    }
   ],
   "source": [
    "time = [0, 20, 40, 60, 80, 100]\n",
    "temp = [26.0, 48.6, 61.6, 71.2, 74.8, 75.2]\n",
    "\n",
    "def linear_interpolation(x, x0, x1, y0, y1):\n",
    "    return y0 + (y1 - y0) * (x - x0) / (x1 - x0)\n",
    "\n",
    "celsius = linear_interpolation(50, 40, 60, 61.6, 71.2)\n",
    "print(\n",
    "    f\"The temperature at 50 minutes is {celsius:.1f} degrees Celsius.\"\n",
    ")"
   ]
  },
  {
   "cell_type": "code",
   "execution_count": 5,
   "metadata": {},
   "outputs": [
    {
     "data": {
      "text/plain": [
       "66.4"
      ]
     },
     "execution_count": 5,
     "metadata": {},
     "output_type": "execute_result"
    }
   ],
   "source": [
    "def do_interpolation(xp, x, y):\n",
    "    for i, xi in enumerate(x):\n",
    "        if xp < xi:\n",
    "            return linear_interpolation(xp, x[i - 1], xi, y[i - 1], y[i])\n",
    "    else:\n",
    "        print(\"Given x-value out of range\")\n",
    "do_interpolation(50, time, temp)"
   ]
  },
  {
   "cell_type": "markdown",
   "metadata": {},
   "source": [
    "## Lagrange's Interpolation Method"
   ]
  },
  {
   "cell_type": "code",
   "execution_count": 18,
   "metadata": {},
   "outputs": [
    {
     "name": "stdout",
     "output_type": "stream",
     "text": [
      "The temperature at 50.0 minutes is 66.9 degrees Celsius.\n"
     ]
    }
   ],
   "source": [
    "x = [0, 20, 40, 60, 80, 100]\n",
    "y = [26.0, 48.6, 61.6, 71.2, 74.8, 75.2]\n",
    "m = len(x)\n",
    "value = 50.0\n",
    "yp = 0\n",
    "for i in range(m):\n",
    "    p = 1\n",
    "    for j in range(m):\n",
    "        if i != j:\n",
    "            p *= (value - x[j]) / (x[i] - x[j])\n",
    "    yp += p * y[i]\n",
    "print(f\"The temperature at {value} minutes is {yp:.1f} degrees Celsius.\")"
   ]
  },
  {
   "cell_type": "markdown",
   "metadata": {},
   "source": [
    "## Newton's Interpolation Method"
   ]
  },
  {
   "cell_type": "code",
   "execution_count": 41,
   "metadata": {},
   "outputs": [
    {
     "name": "stdout",
     "output_type": "stream",
     "text": [
      "[[ 0.          0.          0.          0.          0.          0.        ]\n",
      " [ 0.9         0.6         0.          0.          0.          0.        ]\n",
      " [ 2.5         0.89285714  0.22527473  0.          0.          0.        ]\n",
      " [ 6.6         1.5         0.31034483  0.05316881  0.          0.        ]\n",
      " [ 7.7         1.26229508  0.14397719 -0.02463562 -0.04576731  0.        ]\n",
      " [ 8.          1.          0.06153846 -0.03148774 -0.02351571  0.01171137]]\n"
     ]
    }
   ],
   "source": [
    "import numpy as np\n",
    "x = [0.0, 1.5, 2.8, 4.4, 6.1, 8.0]\n",
    "y = [0.0, 0.9, 2.5, 6.6, 7.7, 8.0]\n",
    "n = len(x) - 1\n",
    "Dy = np.zeros((n + 1, n + 1))\n",
    "Dy[:, 0] = y\n",
    "for j in range(n):\n",
    "    for i in range(j+1, n+1):\n",
    "        Dy[i, j+1] = (Dy[i, j] - Dy[j, j]) / (x[i] - x[j])\n",
    "print(Dy)"
   ]
  },
  {
   "cell_type": "code",
   "execution_count": 51,
   "metadata": {},
   "outputs": [
    {
     "name": "stdout",
     "output_type": "stream",
     "text": [
      "The value of the polynomial at 4.4 is 6.6000.\n"
     ]
    }
   ],
   "source": [
    "value = 4.4\n",
    "yp = Dy[0, 0]\n",
    "for i in range(n+1):\n",
    "    p = 1\n",
    "    for j in range(i):\n",
    "        p *= (value - x[j])\n",
    "    yp += p * Dy[i, i]\n",
    "print(f\"The value of the polynomial at {value} is {yp:.4f}.\")"
   ]
  },
  {
   "cell_type": "markdown",
   "metadata": {},
   "source": [
    "## Linear Regression"
   ]
  },
  {
   "cell_type": "code",
   "execution_count": null,
   "metadata": {},
   "outputs": [],
   "source": []
  }
 ],
 "metadata": {
  "kernelspec": {
   "display_name": "pytorch",
   "language": "python",
   "name": "python3"
  },
  "language_info": {
   "codemirror_mode": {
    "name": "ipython",
    "version": 3
   },
   "file_extension": ".py",
   "mimetype": "text/x-python",
   "name": "python",
   "nbconvert_exporter": "python",
   "pygments_lexer": "ipython3",
   "version": "3.11.3"
  }
 },
 "nbformat": 4,
 "nbformat_minor": 2
}
