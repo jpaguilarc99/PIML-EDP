{
 "cells": [
  {
   "cell_type": "markdown",
   "metadata": {},
   "source": [
    "## **Euler's Method**"
   ]
  },
  {
   "cell_type": "markdown",
   "metadata": {},
   "source": [
    "Find the numerical solution of the following differential equation over the domain [0, 2].\n",
    "\n",
    "$y' = xy$\n",
    "\n",
    "$y(0)=1$\n",
    "\n",
    "Analytical Solution: $y = e^{x^2/2}$"
   ]
  },
  {
   "cell_type": "code",
   "execution_count": 19,
   "metadata": {},
   "outputs": [
    {
     "name": "stdout",
     "output_type": "stream",
     "text": [
      "x \t\t y(Euler)\t y(Analytical)\n",
      "0.000000 \t 1.000000 \t 1.000000\n",
      "0.100000 \t 1.000000 \t 1.005013\n",
      "0.200000 \t 1.010000 \t 1.020201\n",
      "0.300000 \t 1.030200 \t 1.046028\n",
      "0.400000 \t 1.061106 \t 1.083287\n",
      "0.500000 \t 1.103550 \t 1.133148\n",
      "0.600000 \t 1.158728 \t 1.197217\n",
      "0.700000 \t 1.228251 \t 1.277621\n",
      "0.800000 \t 1.314229 \t 1.377128\n",
      "0.900000 \t 1.419367 \t 1.499303\n",
      "1.000000 \t 1.547110 \t 1.648721\n",
      "1.100000 \t 1.701821 \t 1.831252\n",
      "1.200000 \t 1.889022 \t 2.054433\n",
      "1.300000 \t 2.115704 \t 2.327978\n",
      "1.400000 \t 2.390746 \t 2.664456\n",
      "1.500000 \t 2.725450 \t 3.080217\n",
      "1.600000 \t 3.134268 \t 3.596640\n",
      "1.700000 \t 3.635751 \t 4.241852\n",
      "1.800000 \t 4.253829 \t 5.053090\n",
      "1.900000 \t 5.019518 \t 6.079971\n",
      "2.000000 \t 5.973226 \t 7.389056\n"
     ]
    }
   ],
   "source": [
    "import numpy as np\n",
    "dy = lambda x, y: x * y \n",
    "f = lambda x: np.exp(x**2 / 2)\n",
    "x = 0\n",
    "xn = 2\n",
    "y = 1\n",
    "h = 0.1\n",
    "n = int((xn-x)/h)\n",
    "print(\"x \\t\\t y(Euler)\\t y(Analytical)\")\n",
    "print('%f \\t %f \\t %f' % (x, y, f(x)))\n",
    "for i in range(n):\n",
    "    y += dy(x, y)*h\n",
    "    x += h\n",
    "    print('%f \\t %f \\t %f' % (x, y, f(x)))"
   ]
  },
  {
   "cell_type": "markdown",
   "metadata": {},
   "source": [
    "## **Second Order Runge-Kutta's Method**"
   ]
  },
  {
   "cell_type": "markdown",
   "metadata": {},
   "source": [
    "Find the numerical solution of the following differential equation over the domain [0, 2].\n",
    "\n",
    "$y' = xy$\n",
    "\n",
    "$y(0)=1$\n",
    "\n",
    "Analytical Solution: $y = e^{x^2/2}$"
   ]
  },
  {
   "cell_type": "code",
   "execution_count": 23,
   "metadata": {},
   "outputs": [
    {
     "name": "stdout",
     "output_type": "stream",
     "text": [
      "x \t\t y(RK2)\t\t y(Analytical)\n",
      "0.000000 \t 1.000000 \t 1.000000\n",
      "0.200000 \t 1.020000 \t 1.020201\n",
      "0.400000 \t 1.082424 \t 1.083287\n",
      "0.600000 \t 1.194996 \t 1.197217\n",
      "0.800000 \t 1.372334 \t 1.377128\n",
      "1.000000 \t 1.639115 \t 1.648721\n",
      "1.200000 \t 2.035781 \t 2.054433\n",
      "1.400000 \t 2.628600 \t 2.664456\n",
      "1.600000 \t 3.527582 \t 3.596640\n",
      "1.800000 \t 4.918860 \t 5.053090\n",
      "2.000000 \t 7.124477 \t 7.389056\n"
     ]
    }
   ],
   "source": [
    "import numpy as np\n",
    "dy = lambda x, y: x * y \n",
    "f = lambda x: np.exp(x**2 / 2)\n",
    "x = 0\n",
    "xn = 2\n",
    "y = 1\n",
    "h = 0.2\n",
    "n = int((xn-x)/h)\n",
    "print(\"x \\t\\t y(RK2)\\t\\t y(Analytical)\")\n",
    "print('%f \\t %f \\t %f' % (x, y, f(x)))\n",
    "for i in range(n):\n",
    "    K1 = h*dy(x, y)\n",
    "    K2 = h*dy(x + h/2, y + K1/2)\n",
    "    y += K2\n",
    "    x += h\n",
    "    print('%f \\t %f \\t %f' % (x, y, f(x)))"
   ]
  },
  {
   "cell_type": "markdown",
   "metadata": {},
   "source": [
    "## **Fourth-Order Runge-Kutta Method**"
   ]
  },
  {
   "cell_type": "markdown",
   "metadata": {},
   "source": [
    "Find the numerical solution of the following differential equation over the domain [0, 2].\n",
    "\n",
    "$y' = xy$\n",
    "\n",
    "$y(0)=1$\n",
    "\n",
    "Analytical Solution: $y = e^{x^2/2}$"
   ]
  },
  {
   "cell_type": "code",
   "execution_count": 5,
   "metadata": {},
   "outputs": [
    {
     "name": "stdout",
     "output_type": "stream",
     "text": [
      "x \t\t y(RK4)\t\t y(Analytical)\n",
      "0.000000 \t 1.000000 \t 1.000000\n",
      "0.100000 \t 1.005013 \t 1.005013\n",
      "0.200000 \t 1.020201 \t 1.020201\n",
      "0.300000 \t 1.046028 \t 1.046028\n",
      "0.400000 \t 1.083287 \t 1.083287\n",
      "0.500000 \t 1.133148 \t 1.133148\n",
      "0.600000 \t 1.197217 \t 1.197217\n",
      "0.700000 \t 1.277621 \t 1.277621\n",
      "0.800000 \t 1.377128 \t 1.377128\n",
      "0.900000 \t 1.499302 \t 1.499303\n",
      "1.000000 \t 1.648721 \t 1.648721\n",
      "1.100000 \t 1.831252 \t 1.831252\n",
      "1.200000 \t 2.054432 \t 2.054433\n",
      "1.300000 \t 2.327976 \t 2.327978\n",
      "1.400000 \t 2.664454 \t 2.664456\n",
      "1.500000 \t 3.080212 \t 3.080217\n",
      "1.600000 \t 3.596632 \t 3.596640\n",
      "1.700000 \t 4.241839 \t 4.241852\n",
      "1.800000 \t 5.053069 \t 5.053090\n",
      "1.900000 \t 6.079936 \t 6.079971\n",
      "2.000000 \t 7.388998 \t 7.389056\n"
     ]
    }
   ],
   "source": [
    "import numpy as np\n",
    "dy = lambda x, y: x * y \n",
    "f = lambda x: np.exp(x**2 / 2)\n",
    "x = 0 \n",
    "xn = 2\n",
    "y = 1\n",
    "h = 0.1\n",
    "n = int((xn-x)/h)\n",
    "print(\"x \\t\\t y(RK4)\\t\\t y(Analytical)\")\n",
    "print('%f \\t %f \\t %f' % (x, y, f(x)))\n",
    "for i in range(n):\n",
    "    K1 = h * dy(x, y)\n",
    "    K2 = h * dy(x + h/2, y + K1/2)\n",
    "    K3 = h * dy(x + h/2, y + K2/2)\n",
    "    K4 = h * dy(x + h, y + K3)\n",
    "    y += (1/6) * (K1 + 2*K2 + 2*K3 + K4)\n",
    "    x += h\n",
    "    print('%f \\t %f \\t %f' % (x, y, f(x)))"
   ]
  },
  {
   "cell_type": "markdown",
   "metadata": {},
   "source": [
    "By using $RK4$, find the numerical solution of the following DE for the domain [2, 4] and plot the both solutions. Use step size $h=0.1$\n",
    "\n",
    "$y' = y + 3$\n",
    "\n",
    "$ y(2) = -2 $\n",
    "\n",
    "Analytical solution: $y = e^{x-2} - 3$"
   ]
  },
  {
   "cell_type": "code",
   "execution_count": 19,
   "metadata": {},
   "outputs": [
    {
     "name": "stdout",
     "output_type": "stream",
     "text": [
      "x \t\t y(RK4)\t\t y(Analytical)\n",
      "2.000000 \t -2.000000 \t -2.000000\n",
      "2.100000 \t -1.894829 \t -1.894829\n",
      "2.200000 \t -1.778597 \t -1.778597\n",
      "2.300000 \t -1.650142 \t -1.650141\n",
      "2.400000 \t -1.508176 \t -1.508175\n",
      "2.500000 \t -1.351279 \t -1.351279\n",
      "2.600000 \t -1.177882 \t -1.177881\n",
      "2.700000 \t -0.986248 \t -0.986247\n",
      "2.800000 \t -0.774460 \t -0.774459\n",
      "2.900000 \t -0.540399 \t -0.540397\n",
      "3.000000 \t -0.281720 \t -0.281718\n",
      "3.100000 \t 0.004163 \t 0.004166\n",
      "3.200000 \t 0.320114 \t 0.320117\n",
      "3.300000 \t 0.669293 \t 0.669297\n",
      "3.400000 \t 1.055196 \t 1.055200\n",
      "3.500000 \t 1.481684 \t 1.481689\n",
      "3.600000 \t 1.953026 \t 1.953032\n",
      "3.700000 \t 2.473940 \t 2.473947\n",
      "3.800000 \t 3.049639 \t 3.049647\n",
      "3.900000 \t 3.685885 \t 3.685894\n",
      "4.000000 \t 4.389045 \t 4.389056\n"
     ]
    },
    {
     "data": {
      "image/png": "[encoded data removed]",
      "text/plain": [
       "<Figure size 640x480 with 1 Axes>"
      ]
     },
     "metadata": {},
     "output_type": "display_data"
    }
   ],
   "source": [
    "import numpy as np  \n",
    "import matplotlib.pyplot as plt \n",
    "\n",
    "# Initial values\n",
    "dy = lambda y: y + 3\n",
    "f = lambda x: np.exp(x - 2) - 3\n",
    "x = 2\n",
    "xn = 4\n",
    "y = -2\n",
    "h = 0.1\n",
    "n = int((xn - x) / h)\n",
    "\n",
    "# Plot values\n",
    "xp = np.linspace(x, xn, n+1)\n",
    "yp = np.empty(n+1, float)\n",
    "yp[0] = y\n",
    "\n",
    "print(\"x \\t\\t y(RK4)\\t\\t y(Analytical)\")\n",
    "print('%f \\t %f \\t %f' % (x, y, f(x)))\n",
    "for i in range(1, n+1):\n",
    "    K1 = h * dy(y)\n",
    "    K2 = h * dy(y + K1/2)\n",
    "    K3 = h * dy(y + K2/2)\n",
    "    K4 = h * dy(y + K3)\n",
    "    y += (1/6) * (K1 + 2*K2 + 2*K3 + K4)\n",
    "    yp[i] = y\n",
    "    x += h\n",
    "    print('%f \\t %f \\t %f' % (x, y, f(x)))\n",
    "\n",
    "# Plotting\n",
    "plt.plot(xp, yp, 'ro', xp, f(xp), 'b-')\n",
    "plt.xlabel('x')\n",
    "plt.ylabel('y')\n",
    "plt.legend(['RK4', 'Analytical'])\n",
    "plt.show()"
   ]
  },
  {
   "cell_type": "markdown",
   "metadata": {},
   "source": [
    "## **High-Order ODE's**"
   ]
  },
  {
   "cell_type": "markdown",
   "metadata": {},
   "source": [
    "Step 1: To solve a second order ODE in the form\n",
    "\n",
    "$y'' = u$\n",
    "\n",
    "it should be divided into two first order ODE's as following\n",
    "\n",
    "$u' = f(x, y, u)$\n",
    "\n",
    "Step 2: The two equations can be solved simultaneously by using RK4 by setting the calculation procedure in the following sequence:\n",
    "\n",
    "$L_{1} = h u'(x, y, u)$\n",
    "\n",
    "$K_{1} = h y'(x, y, u)$\n",
    "\n",
    "$L_{2} = h u'(x + h/2 , y + K_{1}/2, u + L_{1}/2)$\n",
    "\n",
    "$K_{2} = h y'(x + h/2 , y + K_{1}/2, u + L_{1}/2)$\n",
    "\n",
    "$L_{3} = h u'(x + h/2 , y + K_{2}/2, u + L_{2}/2)$\n",
    "\n",
    "$K_{3} = h y'(x + h/2 , y + K_{2}/2, u + L_{2}/2)$\n",
    "\n",
    "$L_{4} =  h u'(x + h, y + K_{3}, u + L_{3})$\n",
    "\n",
    "$K_{4} =  h y'(x + h, y + K_{3}, u + L_{3})$\n",
    "\n",
    "So, the solution will be\n",
    "\n",
    "$u(x + h) = u(x) + 1/6 (L_{1} + 2L_{2} + L_{3} + L_{4})$\n",
    "\n",
    "$y(x + h) = y(x) + 1/6 (L_{1} + 2L_{2} + L_{3} + L_{4})$\n",
    "\n",
    "**Example**: find the solution of the following 2nd order ODE over the domain $[\\pi, 2\\pi]$\n",
    "\n",
    "$ y'' + y = 4x + 10 sin x $\n",
    "\n",
    "$ y(\\pi) = 0 $\n",
    "\n",
    "$ y'(\\pi) = 2 $\n",
    "\n",
    "Analytical solution: $ 9 \\pi cos x + 7 sin x + 4x - 5x cos x $ \n",
    "\n",
    "**Solution:** First, the second order equation is expressed as a system of two first order equations\n",
    "\n",
    "$y' = u$\n",
    "\n",
    "$y(\\pi) = 0$\n",
    "\n",
    "$u' = 4x + 10sinx - y$\n",
    "\n",
    "$ u(\\pi) = 2 $"
   ]
  },
  {
   "cell_type": "code",
   "execution_count": 9,
   "metadata": {},
   "outputs": [
    {
     "name": "stdout",
     "output_type": "stream",
     "text": [
      "x \t\t y'(RK4) \t y(RK4) \t y'(Exact) \t y(Exact)\n",
      "3.141593 \t 2.000000 \t 0.000000 \t 2.000000 \t 0.000000\n",
      "3.241593 \t 3.214618 \t 0.261447 \t 3.214619 \t 0.261448\n",
      "3.341593 \t 4.337748 \t 0.639870 \t 4.337750 \t 0.639872\n",
      "3.441593 \t 5.359660 \t 1.125619 \t 5.359663 \t 1.125622\n",
      "3.541593 \t 6.272613 \t 1.708166 \t 6.272617 \t 1.708170\n",
      "3.641593 \t 7.070906 \t 2.376315 \t 7.070910 \t 2.376321\n",
      "3.741593 \t 7.750904 \t 3.118400 \t 7.750908 \t 3.118407\n",
      "3.841593 \t 8.311028 \t 3.922495 \t 8.311032 \t 3.922504\n",
      "3.941593 \t 8.751721 \t 4.776620 \t 8.751725 \t 4.776630\n",
      "4.041593 \t 9.075382 \t 5.668935 \t 9.075385 \t 5.668946\n",
      "4.141593 \t 9.286275 \t 6.587934 \t 9.286277 \t 6.587946\n",
      "4.241593 \t 9.390408 \t 7.522627 \t 9.390409 \t 7.522641\n",
      "4.341593 \t 9.395399 \t 8.462707 \t 9.395399 \t 8.462722\n",
      "4.441593 \t 9.310305 \t 9.398701 \t 9.310303 \t 9.398716\n",
      "4.541593 \t 9.145447 \t 10.322107 \t 9.145444 \t 10.322122\n",
      "4.641593 \t 8.912209 \t 11.225509 \t 8.912205 \t 11.225525\n",
      "4.741593 \t 8.622828 \t 12.102675 \t 8.622823 \t 12.102691\n",
      "4.841593 \t 8.290173 \t 12.948631 \t 8.290166 \t 12.948646\n",
      "4.941593 \t 7.927515 \t 13.759709 \t 7.927506 \t 13.759724\n",
      "5.041593 \t 7.548296 \t 14.533581 \t 7.548286 \t 14.533596\n",
      "5.141593 \t 7.165900 \t 15.269263 \t 7.165888 \t 15.269276\n",
      "5.241593 \t 6.793416 \t 15.967093 \t 6.793403 \t 15.967104\n",
      "5.341593 \t 6.443422 \t 16.628697 \t 6.443407 \t 16.628707\n",
      "5.441593 \t 6.127766 \t 17.256923 \t 6.127750 \t 17.256931\n",
      "5.541593 \t 5.857366 \t 17.855761 \t 5.857350 \t 17.855766\n",
      "5.641593 \t 5.642025 \t 18.430234 \t 5.642008 \t 18.430238\n",
      "5.741593 \t 5.490258 \t 18.986287 \t 5.490241 \t 18.986289\n",
      "5.841593 \t 5.409147 \t 19.530644 \t 5.409130 \t 19.530643\n",
      "5.941593 \t 5.404213 \t 20.070659 \t 5.404196 \t 20.070656\n",
      "6.041593 \t 5.479313 \t 20.614158 \t 5.479297 \t 20.614152\n",
      "6.141593 \t 5.636567 \t 21.169264 \t 5.636551 \t 21.169256\n",
      "6.241593 \t 5.876302 \t 21.744224 \t 5.876288 \t 21.744214\n"
     ]
    }
   ],
   "source": [
    "import numpy as np\n",
    "import matplotlib.pyplot as plt\n",
    "\n",
    "# system of the first order ODE's\n",
    "dy = lambda x, y, u: u\n",
    "du = lambda x, y, u: 4*x + 10 * np.sin(x) - y\n",
    "\n",
    "# the analytical solution\n",
    "f = lambda x: 9*np.pi*np.cos(x) + 7*np.sin(x) + 4*x - 5*x*np.cos(x)\n",
    "df = lambda x: -9*np.pi*np.sin(x) + 7 * np.cos(x) + 4 - 5*(np.cos(x) - x*np.sin(x))\n",
    "\n",
    "# initial values\n",
    "x = np.pi\n",
    "xn = 2*np.pi\n",
    "y = 0.0\n",
    "u = 2\n",
    "h = 0.1\n",
    "n = int((xn-x)/h)\n",
    "\n",
    "# plot arrays\n",
    "xp = np.linspace(x, xn, n+1)\n",
    "yp = np.empty(n+1, float)\n",
    "up = np.empty(n+1, float)\n",
    "yp[0] = y\n",
    "up[0] = u\n",
    "\n",
    "# the header of the output table\n",
    "print('x \\t\\t y\\'(RK4) \\t y(RK4) \\t y\\'(Exact) \\t y(Exact)')\n",
    "print('%f \\t %f \\t %f \\t %f \\t %f'%(x, u, y, df(x), f(x)))\n",
    "for i in range(1, n+1):\n",
    "    L1 = h*du(x, y, u)\n",
    "    K1 = h*dy(x, y, u)\n",
    "    \n",
    "    L2 = h*du(x+h/2, y+K1/2, u+L1/2)\n",
    "    K2 = h*dy(x+h/2, y+K1/2, u+L1/2)\n",
    "    \n",
    "    L3 = h*du(x+h/2, y+K2/2, u+L2/2)\n",
    "    K3 = h*dy(x+h/2, y+K2/2, u+L2/2)\n",
    "    \n",
    "    L4 = h*du(x+h, y+K3, u+L3)\n",
    "    K4 = h*dy(x+h, y+K3, u+L3)\n",
    "\n",
    "    u += (L1 + 2*L2 + 2*L3 + L4)/6\n",
    "    up[i] = u\n",
    "    y += (K1 + 2*K2 + 2*K3 + K4)/6\n",
    "    yp[i] = y\n",
    "    x += h\n",
    "    print('%f \\t %f \\t %f \\t %f \\t %f'%(x, u, y, df(x), f(x)))"
   ]
  },
  {
   "cell_type": "code",
   "execution_count": 10,
   "metadata": {},
   "outputs": [
    {
     "data": {
      "image/png": "[encoded data removed]",
      "text/plain": [
       "<Figure size 640x480 with 1 Axes>"
      ]
     },
     "metadata": {},
     "output_type": "display_data"
    }
   ],
   "source": [
    "plt.plot(xp, yp, color = 'r', marker = 'o', ls = '', label='y (RK4)')\n",
    "plt.plot(xp, up, color = 'b', marker = 's', ls = '', label='y\\' (RK4)')\n",
    "plt.plot(xp, f(xp), color = 'k', lw = 1.5, ls = '-', label='y (Exact)')\n",
    "plt.plot(xp, df(xp), color = 'k', lw = 1.5, ls = '--', label='y\\' (Exact)')\n",
    "plt.xlabel('x')\n",
    "plt.ylabel('y, y\\'')\n",
    "plt.legend(loc = 'upper left')\n",
    "plt.grid()\n",
    "plt.axis([np.pi, 2*np.pi, None, None])\n",
    "plt.show()"
   ]
  },
  {
   "cell_type": "markdown",
   "metadata": {},
   "source": [
    "## SciPy Solutions of ODE's"
   ]
  },
  {
   "cell_type": "code",
   "execution_count": 12,
   "metadata": {},
   "outputs": [
    {
     "name": "stdout",
     "output_type": "stream",
     "text": [
      "[[1.        ]\n",
      " [1.13314865]\n",
      " [1.64872162]\n",
      " [3.08021781]\n",
      " [7.3890592 ]]\n"
     ]
    }
   ],
   "source": [
    "from scipy.integrate import odeint\n",
    "from numpy import linspace, arange\n",
    "\n",
    "dy = lambda y, x: x*y \n",
    "y0 = 1\n",
    "x = linspace(0, 2, 5)\n",
    "y = odeint(dy, y0, x)\n",
    "print(y)"
   ]
  },
  {
   "cell_type": "code",
   "execution_count": 15,
   "metadata": {},
   "outputs": [
    {
     "name": "stdout",
     "output_type": "stream",
     "text": [
      "[[-2.00000000e+00]\n",
      " [-1.89482904e+00]\n",
      " [-1.77859720e+00]\n",
      " [-1.65014113e+00]\n",
      " [-1.50817524e+00]\n",
      " [-1.35127866e+00]\n",
      " [-1.17788112e+00]\n",
      " [-9.86247196e-01]\n",
      " [-7.74458917e-01]\n",
      " [-5.40396745e-01]\n",
      " [-2.81718005e-01]\n",
      " [ 4.16620941e-03]\n",
      " [ 3.20117129e-01]\n",
      " [ 6.69296899e-01]\n",
      " [ 1.05520023e+00]\n",
      " [ 1.48168936e+00]\n",
      " [ 1.95303275e+00]\n",
      " [ 2.47394775e+00]\n",
      " [ 3.04964786e+00]\n",
      " [ 3.68589488e+00]\n",
      " [ 4.38905658e+00]]\n"
     ]
    }
   ],
   "source": [
    "dy = lambda y, x: y + 3\n",
    "y0 = -2\n",
    "x = linspace(2, 4, 21)\n",
    "y = odeint(dy, y0, x)\n",
    "print(y)"
   ]
  },
  {
   "cell_type": "code",
   "execution_count": 18,
   "metadata": {},
   "outputs": [
    {
     "name": "stdout",
     "output_type": "stream",
     "text": [
      "[[ 0.          2.        ]\n",
      " [ 0.63987206  4.33774996]\n",
      " [ 1.70817043  6.2726165 ]\n",
      " [ 3.11840694  7.75090793]\n",
      " [ 4.77663009  8.75172472]\n",
      " [ 6.5879462   9.28627674]\n",
      " [ 8.46272165  9.39539861]\n",
      " [10.32212234  9.14544423]\n",
      " [12.10269119  8.62282275]\n",
      " [13.75972411  7.92750589]\n",
      " [15.26927574  7.16588797]\n",
      " [16.62870679  6.44340731]\n",
      " [17.85576666  5.85734996]\n",
      " [18.98628906  5.49024094]\n",
      " [20.07065613  5.40419574]\n",
      " [21.16925591  5.63655105]]\n"
     ]
    }
   ],
   "source": [
    "from numpy import sin, pi  \n",
    "def dy(y, x):\n",
    "    y, u = y\n",
    "    dydx = [u, 4*x + 10*sin(x) - y]\n",
    "    return dydx\n",
    "y0 = [0, 2]\n",
    "x = arange(pi, 2*pi, 0.2)\n",
    "sol = odeint(dy, y0, x)\n",
    "print(sol)"
   ]
  }
 ],
 "metadata": {
  "kernelspec": {
   "display_name": "pytorch",
   "language": "python",
   "name": "python3"
  },
  "language_info": {
   "codemirror_mode": {
    "name": "ipython",
    "version": 3
   },
   "file_extension": ".py",
   "mimetype": "text/x-python",
   "name": "python",
   "nbconvert_exporter": "python",
   "pygments_lexer": "ipython3",
   "version": "3.11.3"
  }
 },
 "nbformat": 4,
 "nbformat_minor": 2
}
