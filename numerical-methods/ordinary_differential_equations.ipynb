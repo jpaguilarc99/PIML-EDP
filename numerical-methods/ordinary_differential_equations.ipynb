{
 "cells": [
  {
   "cell_type": "markdown",
   "metadata": {},
   "source": [
    "## **Euler's Method**"
   ]
  },
  {
   "cell_type": "markdown",
   "metadata": {},
   "source": [
    "Find the numerical solution of the following differential equation over the domain [0, 2].\n",
    "\n",
    "$y' = xy$\n",
    "\n",
    "$y(0)=1$\n",
    "\n",
    "Analytical Solution: $y = e^{x^2/2}$"
   ]
  },
  {
   "cell_type": "code",
   "execution_count": 19,
   "metadata": {},
   "outputs": [
    {
     "name": "stdout",
     "output_type": "stream",
     "text": [
      "x \t\t y(Euler)\t y(Analytical)\n",
      "0.000000 \t 1.000000 \t 1.000000\n",
      "0.100000 \t 1.000000 \t 1.005013\n",
      "0.200000 \t 1.010000 \t 1.020201\n",
      "0.300000 \t 1.030200 \t 1.046028\n",
      "0.400000 \t 1.061106 \t 1.083287\n",
      "0.500000 \t 1.103550 \t 1.133148\n",
      "0.600000 \t 1.158728 \t 1.197217\n",
      "0.700000 \t 1.228251 \t 1.277621\n",
      "0.800000 \t 1.314229 \t 1.377128\n",
      "0.900000 \t 1.419367 \t 1.499303\n",
      "1.000000 \t 1.547110 \t 1.648721\n",
      "1.100000 \t 1.701821 \t 1.831252\n",
      "1.200000 \t 1.889022 \t 2.054433\n",
      "1.300000 \t 2.115704 \t 2.327978\n",
      "1.400000 \t 2.390746 \t 2.664456\n",
      "1.500000 \t 2.725450 \t 3.080217\n",
      "1.600000 \t 3.134268 \t 3.596640\n",
      "1.700000 \t 3.635751 \t 4.241852\n",
      "1.800000 \t 4.253829 \t 5.053090\n",
      "1.900000 \t 5.019518 \t 6.079971\n",
      "2.000000 \t 5.973226 \t 7.389056\n"
     ]
    }
   ],
   "source": [
    "import numpy as np\n",
    "dy = lambda x, y: x * y \n",
    "f = lambda x: np.exp(x**2 / 2)\n",
    "x = 0\n",
    "xn = 2\n",
    "y = 1\n",
    "h = 0.1\n",
    "n = int((xn-x)/h)\n",
    "print(\"x \\t\\t y(Euler)\\t y(Analytical)\")\n",
    "print('%f \\t %f \\t %f' % (x, y, f(x)))\n",
    "for i in range(n):\n",
    "    y += dy(x, y)*h\n",
    "    x += h\n",
    "    print('%f \\t %f \\t %f' % (x, y, f(x)))"
   ]
  },
  {
   "cell_type": "markdown",
   "metadata": {},
   "source": [
    "## **Second Order Runge-Kutta's Method**"
   ]
  },
  {
   "cell_type": "markdown",
   "metadata": {},
   "source": [
    "Find the numerical solution of the following differential equation over the domain [0, 2].\n",
    "\n",
    "$y' = xy$\n",
    "\n",
    "$y(0)=1$\n",
    "\n",
    "Analytical Solution: $y = e^{x^2/2}$"
   ]
  },
  {
   "cell_type": "code",
   "execution_count": 23,
   "metadata": {},
   "outputs": [
    {
     "name": "stdout",
     "output_type": "stream",
     "text": [
      "x \t\t y(RK2)\t\t y(Analytical)\n",
      "0.000000 \t 1.000000 \t 1.000000\n",
      "0.200000 \t 1.020000 \t 1.020201\n",
      "0.400000 \t 1.082424 \t 1.083287\n",
      "0.600000 \t 1.194996 \t 1.197217\n",
      "0.800000 \t 1.372334 \t 1.377128\n",
      "1.000000 \t 1.639115 \t 1.648721\n",
      "1.200000 \t 2.035781 \t 2.054433\n",
      "1.400000 \t 2.628600 \t 2.664456\n",
      "1.600000 \t 3.527582 \t 3.596640\n",
      "1.800000 \t 4.918860 \t 5.053090\n",
      "2.000000 \t 7.124477 \t 7.389056\n"
     ]
    }
   ],
   "source": [
    "import numpy as np\n",
    "dy = lambda x, y: x * y \n",
    "f = lambda x: np.exp(x**2 / 2)\n",
    "x = 0\n",
    "xn = 2\n",
    "y = 1\n",
    "h = 0.2\n",
    "n = int((xn-x)/h)\n",
    "print(\"x \\t\\t y(RK2)\\t\\t y(Analytical)\")\n",
    "print('%f \\t %f \\t %f' % (x, y, f(x)))\n",
    "for i in range(n):\n",
    "    K1 = h*dy(x, y)\n",
    "    K2 = h*dy(x + h/2, y + K1/2)\n",
    "    y += K2\n",
    "    x += h\n",
    "    print('%f \\t %f \\t %f' % (x, y, f(x)))"
   ]
  },
  {
   "cell_type": "markdown",
   "metadata": {},
   "source": [
    "## **Fourth-Order Runge-Kutta Method**"
   ]
  },
  {
   "cell_type": "markdown",
   "metadata": {},
   "source": [
    "Find the numerical solution of the following differential equation over the domain [0, 2].\n",
    "\n",
    "$y' = xy$\n",
    "\n",
    "$y(0)=1$\n",
    "\n",
    "Analytical Solution: $y = e^{x^2/2}$"
   ]
  },
  {
   "cell_type": "code",
   "execution_count": 5,
   "metadata": {},
   "outputs": [
    {
     "name": "stdout",
     "output_type": "stream",
     "text": [
      "x \t\t y(RK4)\t\t y(Analytical)\n",
      "0.000000 \t 1.000000 \t 1.000000\n",
      "0.100000 \t 1.005013 \t 1.005013\n",
      "0.200000 \t 1.020201 \t 1.020201\n",
      "0.300000 \t 1.046028 \t 1.046028\n",
      "0.400000 \t 1.083287 \t 1.083287\n",
      "0.500000 \t 1.133148 \t 1.133148\n",
      "0.600000 \t 1.197217 \t 1.197217\n",
      "0.700000 \t 1.277621 \t 1.277621\n",
      "0.800000 \t 1.377128 \t 1.377128\n",
      "0.900000 \t 1.499302 \t 1.499303\n",
      "1.000000 \t 1.648721 \t 1.648721\n",
      "1.100000 \t 1.831252 \t 1.831252\n",
      "1.200000 \t 2.054432 \t 2.054433\n",
      "1.300000 \t 2.327976 \t 2.327978\n",
      "1.400000 \t 2.664454 \t 2.664456\n",
      "1.500000 \t 3.080212 \t 3.080217\n",
      "1.600000 \t 3.596632 \t 3.596640\n",
      "1.700000 \t 4.241839 \t 4.241852\n",
      "1.800000 \t 5.053069 \t 5.053090\n",
      "1.900000 \t 6.079936 \t 6.079971\n",
      "2.000000 \t 7.388998 \t 7.389056\n"
     ]
    }
   ],
   "source": [
    "import numpy as np\n",
    "dy = lambda x, y: x * y \n",
    "f = lambda x: np.exp(x**2 / 2)\n",
    "x = 0 \n",
    "xn = 2\n",
    "y = 1\n",
    "h = 0.1\n",
    "n = int((xn-x)/h)\n",
    "print(\"x \\t\\t y(RK4)\\t\\t y(Analytical)\")\n",
    "print('%f \\t %f \\t %f' % (x, y, f(x)))\n",
    "for i in range(n):\n",
    "    K1 = h * dy(x, y)\n",
    "    K2 = h * dy(x + h/2, y + K1/2)\n",
    "    K3 = h * dy(x + h/2, y + K2/2)\n",
    "    K4 = h * dy(x + h, y + K3)\n",
    "    y += (1/6) * (K1 + 2*K2 + 2*K3 + K4)\n",
    "    x += h\n",
    "    print('%f \\t %f \\t %f' % (x, y, f(x)))"
   ]
  },
  {
   "cell_type": "markdown",
   "metadata": {},
   "source": [
    "By using $RK4$, find the numerical solution of the following DE for the domain [2, 4] and plot the both solutions. Use step size $h=0.1$\n",
    "\n",
    "$y' = y + 3$\n",
    "\n",
    "$ y(2) = -2 $\n",
    "\n",
    "Analytical solution: $y = e^{x-2} - 3$"
   ]
  },
  {
   "cell_type": "code",
   "execution_count": 19,
   "metadata": {},
   "outputs": [
    {
     "name": "stdout",
     "output_type": "stream",
     "text": [
      "x \t\t y(RK4)\t\t y(Analytical)\n",
      "2.000000 \t -2.000000 \t -2.000000\n",
      "2.100000 \t -1.894829 \t -1.894829\n",
      "2.200000 \t -1.778597 \t -1.778597\n",
      "2.300000 \t -1.650142 \t -1.650141\n",
      "2.400000 \t -1.508176 \t -1.508175\n",
      "2.500000 \t -1.351279 \t -1.351279\n",
      "2.600000 \t -1.177882 \t -1.177881\n",
      "2.700000 \t -0.986248 \t -0.986247\n",
      "2.800000 \t -0.774460 \t -0.774459\n",
      "2.900000 \t -0.540399 \t -0.540397\n",
      "3.000000 \t -0.281720 \t -0.281718\n",
      "3.100000 \t 0.004163 \t 0.004166\n",
      "3.200000 \t 0.320114 \t 0.320117\n",
      "3.300000 \t 0.669293 \t 0.669297\n",
      "3.400000 \t 1.055196 \t 1.055200\n",
      "3.500000 \t 1.481684 \t 1.481689\n",
      "3.600000 \t 1.953026 \t 1.953032\n",
      "3.700000 \t 2.473940 \t 2.473947\n",
      "3.800000 \t 3.049639 \t 3.049647\n",
      "3.900000 \t 3.685885 \t 3.685894\n",
      "4.000000 \t 4.389045 \t 4.389056\n"
     ]
    },
    {
     "data": {
      "image/png": "[encoded data removed]",
      "text/plain": [
       "<Figure size 640x480 with 1 Axes>"
      ]
     },
     "metadata": {},
     "output_type": "display_data"
    }
   ],
   "source": [
    "import numpy as np  \n",
    "import matplotlib.pyplot as plt \n",
    "\n",
    "# Initial values\n",
    "dy = lambda y: y + 3\n",
    "f = lambda x: np.exp(x - 2) - 3\n",
    "x = 2\n",
    "xn = 4\n",
    "y = -2\n",
    "h = 0.1\n",
    "n = int((xn - x) / h)\n",
    "\n",
    "# Plot values\n",
    "xp = np.linspace(x, xn, n+1)\n",
    "yp = np.empty(n+1, float)\n",
    "yp[0] = y\n",
    "\n",
    "print(\"x \\t\\t y(RK4)\\t\\t y(Analytical)\")\n",
    "print('%f \\t %f \\t %f' % (x, y, f(x)))\n",
    "for i in range(1, n+1):\n",
    "    K1 = h * dy(y)\n",
    "    K2 = h * dy(y + K1/2)\n",
    "    K3 = h * dy(y + K2/2)\n",
    "    K4 = h * dy(y + K3)\n",
    "    y += (1/6) * (K1 + 2*K2 + 2*K3 + K4)\n",
    "    yp[i] = y\n",
    "    x += h\n",
    "    print('%f \\t %f \\t %f' % (x, y, f(x)))\n",
    "\n",
    "# Plotting\n",
    "plt.plot(xp, yp, 'ro', xp, f(xp), 'b-')\n",
    "plt.xlabel('x')\n",
    "plt.ylabel('y')\n",
    "plt.legend(['RK4', 'Analytical'])\n",
    "plt.show()"
   ]
  },
  {
   "cell_type": "markdown",
   "metadata": {},
   "source": [
    "## **High-Order ODE's**"
   ]
  },
  {
   "cell_type": "code",
   "execution_count": null,
   "metadata": {},
   "outputs": [],
   "source": []
  }
 ],
 "metadata": {
  "kernelspec": {
   "display_name": "pytorch",
   "language": "python",
   "name": "python3"
  },
  "language_info": {
   "codemirror_mode": {
    "name": "ipython",
    "version": 3
   },
   "file_extension": ".py",
   "mimetype": "text/x-python",
   "name": "python",
   "nbconvert_exporter": "python",
   "pygments_lexer": "ipython3",
   "version": "3.11.3"
  }
 },
 "nbformat": 4,
 "nbformat_minor": 2
}
