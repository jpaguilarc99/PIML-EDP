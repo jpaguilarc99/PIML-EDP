{
 "cells": [
  {
   "cell_type": "markdown",
   "metadata": {},
   "source": [
    "## Linear Interpolation"
   ]
  },
  {
   "cell_type": "code",
   "execution_count": 2,
   "metadata": {},
   "outputs": [
    {
     "name": "stdout",
     "output_type": "stream",
     "text": [
      "The temperature at 50 minutes is 66.4 degrees Celsius.\n"
     ]
    }
   ],
   "source": [
    "time = [0, 20, 40, 60, 80, 100]\n",
    "temp = [26.0, 48.6, 61.6, 71.2, 74.8, 75.2]\n",
    "\n",
    "def linear_interpolation(x, x0, x1, y0, y1):\n",
    "    return y0 + (y1 - y0) * (x - x0) / (x1 - x0)\n",
    "\n",
    "celsius = linear_interpolation(50, 40, 60, 61.6, 71.2)\n",
    "print(\n",
    "    f\"The temperature at 50 minutes is {celsius:.1f} degrees Celsius.\"\n",
    ")"
   ]
  },
  {
   "cell_type": "code",
   "execution_count": 5,
   "metadata": {},
   "outputs": [
    {
     "data": {
      "text/plain": [
       "66.4"
      ]
     },
     "execution_count": 5,
     "metadata": {},
     "output_type": "execute_result"
    }
   ],
   "source": [
    "def do_interpolation(xp, x, y):\n",
    "    for i, xi in enumerate(x):\n",
    "        if xp < xi:\n",
    "            return linear_interpolation(xp, x[i - 1], xi, y[i - 1], y[i])\n",
    "    else:\n",
    "        print(\"Given x-value out of range\")\n",
    "do_interpolation(50, time, temp)"
   ]
  },
  {
   "cell_type": "markdown",
   "metadata": {},
   "source": [
    "## Lagrange's Interpolation Method"
   ]
  },
  {
   "cell_type": "code",
   "execution_count": 18,
   "metadata": {},
   "outputs": [
    {
     "name": "stdout",
     "output_type": "stream",
     "text": [
      "The temperature at 50.0 minutes is 66.9 degrees Celsius.\n"
     ]
    }
   ],
   "source": [
    "x = [0, 20, 40, 60, 80, 100]\n",
    "y = [26.0, 48.6, 61.6, 71.2, 74.8, 75.2]\n",
    "m = len(x)\n",
    "value = 50.0\n",
    "yp = 0\n",
    "for i in range(m):\n",
    "    p = 1\n",
    "    for j in range(m):\n",
    "        if i != j:\n",
    "            p *= (value - x[j]) / (x[i] - x[j])\n",
    "    yp += p * y[i]\n",
    "print(f\"The temperature at {value} minutes is {yp:.1f} degrees Celsius.\")"
   ]
  },
  {
   "cell_type": "markdown",
   "metadata": {},
   "source": [
    "## Newton's Interpolation Method"
   ]
  },
  {
   "cell_type": "code",
   "execution_count": 41,
   "metadata": {},
   "outputs": [
    {
     "name": "stdout",
     "output_type": "stream",
     "text": [
      "[[ 0.          0.          0.          0.          0.          0.        ]\n",
      " [ 0.9         0.6         0.          0.          0.          0.        ]\n",
      " [ 2.5         0.89285714  0.22527473  0.          0.          0.        ]\n",
      " [ 6.6         1.5         0.31034483  0.05316881  0.          0.        ]\n",
      " [ 7.7         1.26229508  0.14397719 -0.02463562 -0.04576731  0.        ]\n",
      " [ 8.          1.          0.06153846 -0.03148774 -0.02351571  0.01171137]]\n"
     ]
    }
   ],
   "source": [
    "import numpy as np\n",
    "x = [0.0, 1.5, 2.8, 4.4, 6.1, 8.0]\n",
    "y = [0.0, 0.9, 2.5, 6.6, 7.7, 8.0]\n",
    "n = len(x) - 1\n",
    "Dy = np.zeros((n + 1, n + 1))\n",
    "Dy[:, 0] = y\n",
    "for j in range(n):\n",
    "    for i in range(j+1, n+1):\n",
    "        Dy[i, j+1] = (Dy[i, j] - Dy[j, j]) / (x[i] - x[j])\n",
    "print(Dy)"
   ]
  },
  {
   "cell_type": "code",
   "execution_count": 51,
   "metadata": {},
   "outputs": [
    {
     "name": "stdout",
     "output_type": "stream",
     "text": [
      "The value of the polynomial at 4.4 is 6.6000.\n"
     ]
    }
   ],
   "source": [
    "value = 4.4\n",
    "yp = Dy[0, 0]\n",
    "for i in range(n+1):\n",
    "    p = 1\n",
    "    for j in range(i):\n",
    "        p *= (value - x[j])\n",
    "    yp += p * Dy[i, i]\n",
    "print(f\"The value of the polynomial at {value} is {yp:.4f}.\")"
   ]
  },
  {
   "cell_type": "markdown",
   "metadata": {},
   "source": [
    "## Linear Regression"
   ]
  },
  {
   "cell_type": "markdown",
   "metadata": {},
   "source": [
    "**Curve Fitting**\n",
    "\n",
    "Curve fitting consiste en encontrar la ecuación de la curva que pasa a través de los data points dados con la menor desviación posible desde los puntos.\n",
    "\n",
    "Así, la principal diferencia entre la Interpolación y el Ajuste de Curvas es que este último no tiene que coincidir con todos los data points dados.\n",
    "\n",
    "La técnica usada para encontrar la ecuación de la curva es conocida como el Método de Mínimos Cuadrados, donde los cuadrados de las diferencias entre los data points dados y la curva ajustada deben ser minimizados."
   ]
  },
  {
   "cell_type": "code",
   "execution_count": 13,
   "metadata": {},
   "outputs": [
    {
     "name": "stdout",
     "output_type": "stream",
     "text": [
      "The equation of the line is y = -28.30 + 9.09x.\n"
     ]
    }
   ],
   "source": [
    "x = [3, 4, 5, 6, 7, 8]\n",
    "y = [0, 7, 17, 26, 35, 45]\n",
    "n = len(x) \n",
    "x_sum = y_sum = x2_sum = xy_sum = 0\n",
    "\n",
    "for i in range(n):\n",
    "    x_sum += x[i] \n",
    "    y_sum += y[i]\n",
    "    x2_sum += x[i] ** 2\n",
    "    xy_sum += x[i] * y[i]\n",
    "\n",
    "x_hat = x_sum / n\n",
    "y_hat = y_sum / n\n",
    "\n",
    "a = (y_hat*x2_sum - x_hat*xy_sum) / (x2_sum - n*x_hat**2)\n",
    "b = (xy_sum - x_hat*y_sum) / (x2_sum - n*x_hat**2)\n",
    "\n",
    "print(f\"The equation of the line is y = {a:.2f} + {b:.2f}x.\")"
   ]
  },
  {
   "cell_type": "code",
   "execution_count": 20,
   "metadata": {},
   "outputs": [
    {
     "name": "stdout",
     "output_type": "stream",
     "text": [
      "The equation of the line is y = -28.30 + 9.09x.\n"
     ]
    }
   ],
   "source": [
    "import numpy as np\n",
    "x = np.array([3, 4, 5, 6, 7, 8])\n",
    "y = np.array([0, 7, 17, 26, 35, 45])\n",
    "n = len(x)\n",
    "a = (np.mean(y)*np.sum(x**2) - np.mean(x)*np.sum(x*y)) / (np.sum(x**2) - n*np.mean(x)**2)\n",
    "b = (np.sum(x*y) - np.mean(x)*np.sum(y)) / (np.sum(x**2) - n*np.mean(x)**2)\n",
    "print(f\"The equation of the line is y = {a:.2f} + {b:.2f}x.\")"
   ]
  },
  {
   "cell_type": "markdown",
   "metadata": {},
   "source": [
    "## Polynomial Fit"
   ]
  },
  {
   "cell_type": "code",
   "execution_count": 47,
   "metadata": {},
   "outputs": [
    {
     "name": "stdout",
     "output_type": "stream",
     "text": [
      "[[6.0000e+00 1.5000e+01 5.5000e+01 2.2500e+02]\n",
      " [1.5000e+01 5.5000e+01 2.2500e+02 9.7900e+02]\n",
      " [5.5000e+01 2.2500e+02 9.7900e+02 4.4250e+03]\n",
      " [2.2500e+02 9.7900e+02 4.4250e+03 2.0515e+04]]\n",
      "The equation of the line is y = 1.93 + 5.68x + -0.00x^2 + 0.25x^3.\n"
     ]
    }
   ],
   "source": [
    "import numpy as np\n",
    "x = np.arange(6)\n",
    "y = np.array([2, 8, 14, 28, 39, 62])\n",
    "m = len(x)\n",
    "n = 3\n",
    "\n",
    "A = np.zeros((n+1, n+1))\n",
    "B = np.zeros(n+1)\n",
    "\n",
    "for row in range(n+1):\n",
    "    for col in range(n+1):\n",
    "        if row == 0 and col == 0:\n",
    "            A[row, col] = m\n",
    "        else:\n",
    "            A[row, col] = np.sum(x**(row+col))\n",
    "    B[row] = np.sum(y*x**row)\n",
    "print(A)\n",
    "\n",
    "a = np.linalg.solve(A, B)\n",
    "print(f\"The equation of the line is y = {a[0]:.2f} + {a[1]:.2f}x + {a[2]:.2f}x^2 + {a[3]:.2f}x^3.\")"
   ]
  },
  {
   "cell_type": "markdown",
   "metadata": {},
   "source": [
    "## Interpolation and Curve Fitting Functions in SciPy"
   ]
  },
  {
   "cell_type": "code",
   "execution_count": 53,
   "metadata": {},
   "outputs": [],
   "source": [
    "import scipy as sp\n",
    "x = [0, 20, 40, 60, 80, 100]\n",
    "y = [26.0, 48.6, 61.6, 71.2, 74.8, 75.2]"
   ]
  },
  {
   "cell_type": "markdown",
   "metadata": {},
   "source": [
    "**Lineal**"
   ]
  },
  {
   "cell_type": "code",
   "execution_count": 60,
   "metadata": {},
   "outputs": [
    {
     "data": {
      "text/plain": [
       "array(61.6)"
      ]
     },
     "execution_count": 60,
     "metadata": {},
     "output_type": "execute_result"
    }
   ],
   "source": [
    "f = sp.interpolate.interp1d(x, y)\n",
    "f(40)"
   ]
  },
  {
   "cell_type": "code",
   "execution_count": 61,
   "metadata": {},
   "outputs": [
    {
     "data": {
      "text/plain": [
       "array(66.95208333)"
      ]
     },
     "execution_count": 61,
     "metadata": {},
     "output_type": "execute_result"
    }
   ],
   "source": [
    "f = sp.interpolate.interp1d(x, y, kind='quadratic')\n",
    "f(50)"
   ]
  },
  {
   "cell_type": "markdown",
   "metadata": {},
   "source": [
    "**Lagrange**"
   ]
  },
  {
   "cell_type": "code",
   "execution_count": 63,
   "metadata": {},
   "outputs": [
    {
     "data": {
      "text/plain": [
       "poly1d([ 3.69791667e-08, -9.68750000e-06,  9.21875000e-04, -4.46250000e-02,\n",
       "        1.72533333e+00,  2.60000000e+01])"
      ]
     },
     "execution_count": 63,
     "metadata": {},
     "output_type": "execute_result"
    }
   ],
   "source": [
    "L = sp.interpolate.lagrange(x, y)\n",
    "L"
   ]
  },
  {
   "cell_type": "code",
   "execution_count": 64,
   "metadata": {},
   "outputs": [
    {
     "data": {
      "text/plain": [
       "61.599999999999746"
      ]
     },
     "execution_count": 64,
     "metadata": {},
     "output_type": "execute_result"
    }
   ],
   "source": [
    "L(40)"
   ]
  },
  {
   "cell_type": "code",
   "execution_count": 65,
   "metadata": {},
   "outputs": [
    {
     "data": {
      "text/plain": [
       "66.94765624999957"
      ]
     },
     "execution_count": 65,
     "metadata": {},
     "output_type": "execute_result"
    }
   ],
   "source": [
    "L(50)"
   ]
  },
  {
   "cell_type": "markdown",
   "metadata": {},
   "source": [
    "**Linear Regression**"
   ]
  },
  {
   "cell_type": "code",
   "execution_count": 66,
   "metadata": {},
   "outputs": [],
   "source": [
    "import scipy as sp\n",
    "x = np.array([3, 4, 5, 6, 7, 8])\n",
    "y = np.array([0, 7, 17, 26, 35, 45])"
   ]
  },
  {
   "cell_type": "code",
   "execution_count": 67,
   "metadata": {},
   "outputs": [
    {
     "data": {
      "text/plain": [
       "LinregressResult(slope=9.085714285714285, intercept=-28.3047619047619, rvalue=0.9990651680982869, pvalue=1.3104575468971522e-06, stderr=0.19656921371950828, intercept_stderr=1.1320520969077084)"
      ]
     },
     "execution_count": 67,
     "metadata": {},
     "output_type": "execute_result"
    }
   ],
   "source": [
    "L = sp.stats.linregress(x, y)\n",
    "L"
   ]
  },
  {
   "cell_type": "code",
   "execution_count": 68,
   "metadata": {},
   "outputs": [
    {
     "data": {
      "text/plain": [
       "9.085714285714285"
      ]
     },
     "execution_count": 68,
     "metadata": {},
     "output_type": "execute_result"
    }
   ],
   "source": [
    "L.slope"
   ]
  },
  {
   "cell_type": "code",
   "execution_count": 69,
   "metadata": {},
   "outputs": [
    {
     "name": "stdout",
     "output_type": "stream",
     "text": [
      "The equation of the line is y = -28.30 + 9.09x.\n"
     ]
    }
   ],
   "source": [
    "print(f\"The equation of the line is y = {L.intercept:.2f} + {L.slope:.2f}x.\")"
   ]
  },
  {
   "cell_type": "markdown",
   "metadata": {},
   "source": [
    "**Curve Fit**"
   ]
  },
  {
   "cell_type": "code",
   "execution_count": 70,
   "metadata": {},
   "outputs": [],
   "source": [
    "x = np.arange(6)\n",
    "y = np.array([2, 8, 14, 28, 39, 62])"
   ]
  },
  {
   "cell_type": "code",
   "execution_count": 73,
   "metadata": {},
   "outputs": [
    {
     "name": "stdout",
     "output_type": "stream",
     "text": [
      "The equation of the line is y = 1.93 + 5.68x + -0.00x^2 + 0.25x^3.\n"
     ]
    }
   ],
   "source": [
    "def f(x, a0, a1, a2, a3):\n",
    "    return a0 + a1*x + a2*x**2 + a3*x**3\n",
    "a, b = sp.optimize.curve_fit(f, x, y)\n",
    "print(f\"The equation of the line is y = {a[0]:.2f} + {a[1]:.2f}x + {a[2]:.2f}x^2 + {a[3]:.2f}x^3.\")"
   ]
  }
 ],
 "metadata": {
  "kernelspec": {
   "display_name": "pytorch",
   "language": "python",
   "name": "python3"
  },
  "language_info": {
   "codemirror_mode": {
    "name": "ipython",
    "version": 3
   },
   "file_extension": ".py",
   "mimetype": "text/x-python",
   "name": "python",
   "nbconvert_exporter": "python",
   "pygments_lexer": "ipython3",
   "version": "3.11.3"
  }
 },
 "nbformat": 4,
 "nbformat_minor": 2
}
