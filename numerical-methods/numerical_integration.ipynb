{
 "cells": [
  {
   "cell_type": "markdown",
   "metadata": {},
   "source": [
    "## Regla del Trapezoide"
   ]
  },
  {
   "cell_type": "markdown",
   "metadata": {},
   "source": [
    "Encontrar el valor de la integral\n",
    "\n",
    "$\\int_0^{\\pi/2} x sin(x) dx$\n",
    "\n",
    "El resultado de la integracion analitica es $1$"
   ]
  },
  {
   "cell_type": "code",
   "execution_count": 14,
   "metadata": {},
   "outputs": [
    {
     "name": "stdout",
     "output_type": "stream",
     "text": [
      "Numerical Integration = 1.000021\n"
     ]
    }
   ],
   "source": [
    "import numpy as np  \n",
    "import math\n",
    "f = lambda x: x * math.sin(x) # function to integrate\n",
    "a = 0 # lower limit\n",
    "b = math.pi / 2 # upper limit\n",
    "n = 100\n",
    "h = (b - a) / n # step size\n",
    "\n",
    "i_sum = (1 / 2) * (f(a) + f(b))\n",
    "for i in range(1, n):\n",
    "    i_sum += f(a + i * h)\n",
    "Integral = h * i_sum\n",
    "print(f\"Numerical Integration = {Integral:.6f}\")"
   ]
  },
  {
   "cell_type": "markdown",
   "metadata": {},
   "source": [
    "## Regla 1/3 de Simpson"
   ]
  },
  {
   "cell_type": "markdown",
   "metadata": {},
   "source": [
    "$\\int_0^{\\pi/2} x sin(x) dx$"
   ]
  },
  {
   "cell_type": "code",
   "execution_count": 31,
   "metadata": {},
   "outputs": [
    {
     "name": "stdout",
     "output_type": "stream",
     "text": [
      "Numerical Integration = 0.999999\n"
     ]
    }
   ],
   "source": [
    "import math  \n",
    "f = lambda x: x * math.sin(x) # function to integrate\n",
    "a = 0\n",
    "b = math.pi / 2\n",
    "n = 20\n",
    "h = (b - a) / n\n",
    "\n",
    "i_sum = f(a) + f(b)\n",
    "for i in range(1, n):\n",
    "    if i % 2 != 0:\n",
    "        i_sum += 4 * f(a + i * h)\n",
    "    if i % 2 == 0:\n",
    "        i_sum += 2 * f(a + i * h)\n",
    "\n",
    "Integral = (1/3) * h * i_sum\n",
    "print(f\"Numerical Integration = {Integral:.6f}\")"
   ]
  },
  {
   "cell_type": "markdown",
   "metadata": {},
   "source": [
    "## Regla 3/8 de Simpson"
   ]
  },
  {
   "cell_type": "markdown",
   "metadata": {},
   "source": [
    "$\\int_0^{\\pi/2} x sin(x) dx$"
   ]
  },
  {
   "cell_type": "code",
   "execution_count": 45,
   "metadata": {},
   "outputs": [
    {
     "name": "stdout",
     "output_type": "stream",
     "text": [
      "Numerical Integration = 0.999999\n"
     ]
    }
   ],
   "source": [
    "import math  \n",
    "f = lambda x: x * math.sin(x) # function to integrate\n",
    "a = 0\n",
    "b = math.pi / 2\n",
    "n = 21\n",
    "h = (b - a) / n\n",
    "\n",
    "i_sum = f(a) + f(b)\n",
    "for i in range(1, n, 3):   \n",
    "    i_sum += 3 * (f(a + i * h) + f(a + (i+1) * h))    \n",
    "for i in range(3, n, 3):\n",
    "    i_sum += 2 * f(a + i * h)   \n",
    "\n",
    "Integral = (3/8) * h * i_sum\n",
    "print(f\"Numerical Integration = {Integral:.6f}\")"
   ]
  },
  {
   "cell_type": "markdown",
   "metadata": {},
   "source": [
    "## Double Integrations"
   ]
  },
  {
   "cell_type": "markdown",
   "metadata": {},
   "source": [
    "Encontrar el valor de la Integral utilizando la doble integración 1/3 de Simpson\n",
    "\n",
    "$\\int_{-1}^{1} \\int_{1}^{2} (x^2y + xy^2) dxdy$\n",
    "\n",
    "Cuya solución analítica es $1$."
   ]
  },
  {
   "cell_type": "code",
   "execution_count": 52,
   "metadata": {},
   "outputs": [
    {
     "name": "stdout",
     "output_type": "stream",
     "text": [
      "Numerical Integration = 1.000000\n"
     ]
    }
   ],
   "source": [
    "f = lambda x, y: x**2 * y + x * y**2\n",
    "ax = 1\n",
    "bx = 2\n",
    "ay = -1\n",
    "by = 1\n",
    "nx = 10\n",
    "ny = 10\n",
    "hx = (bx - ax) / nx\n",
    "hy = (by - ay) / ny\n",
    "S = 0\n",
    "for i in range(0, ny+1):\n",
    "    if i == 0 or i == ny:\n",
    "        p = 1\n",
    "    elif i % 2 != 0:\n",
    "        p = 4\n",
    "    else:\n",
    "        p = 2\n",
    "    for j in range(0, nx+1):\n",
    "        if j == 0 or j == nx:\n",
    "            q = 1\n",
    "        elif j % 2 != 0:\n",
    "            q = 4\n",
    "        else:\n",
    "            q = 2\n",
    "        S += p * q * f(ax + j * hx, ay + i * hy)\n",
    "Integral = (hx * hy) / 9 * S\n",
    "print(f\"Numerical Integration = {Integral:.6f}\")"
   ]
  },
  {
   "cell_type": "markdown",
   "metadata": {},
   "source": [
    "### Quadrature in SciPy"
   ]
  },
  {
   "cell_type": "code",
   "execution_count": 53,
   "metadata": {},
   "outputs": [],
   "source": [
    "from scipy.integrate import quad, dblquad, nquad"
   ]
  },
  {
   "cell_type": "code",
   "execution_count": 57,
   "metadata": {},
   "outputs": [
    {
     "name": "stdout",
     "output_type": "stream",
     "text": [
      "Numerical Integration = 1.000000\n"
     ]
    }
   ],
   "source": [
    "import math\n",
    "f = lambda x: x * math.sin(x)\n",
    "I, _ = quad(f, 0, math.pi / 2)\n",
    "print(f\"Numerical Integration = {I:.6f}\")"
   ]
  },
  {
   "cell_type": "code",
   "execution_count": 59,
   "metadata": {},
   "outputs": [
    {
     "name": "stdout",
     "output_type": "stream",
     "text": [
      "Numerical Integration = 1.000000\n"
     ]
    }
   ],
   "source": [
    "fn = lambda x, y: x**2 * y + x * y**2\n",
    "ax, bx = 1, 2\n",
    "ay, by = -1, 1\n",
    "I, _ = dblquad(fn, ax, bx, ay, by)\n",
    "print(f\"Numerical Integration = {I:.6f}\")"
   ]
  }
 ],
 "metadata": {
  "kernelspec": {
   "display_name": "pytorch",
   "language": "python",
   "name": "python3"
  },
  "language_info": {
   "codemirror_mode": {
    "name": "ipython",
    "version": 3
   },
   "file_extension": ".py",
   "mimetype": "text/x-python",
   "name": "python",
   "nbconvert_exporter": "python",
   "pygments_lexer": "ipython3",
   "version": "3.11.3"
  }
 },
 "nbformat": 4,
 "nbformat_minor": 2
}
