{
 "cells": [
  {
   "cell_type": "markdown",
   "metadata": {},
   "source": [
    "## Eliminación de Gauss"
   ]
  },
  {
   "cell_type": "markdown",
   "metadata": {},
   "source": [
    "Es el método más conocido para resolver sistemas de ecuaciones lineales y es considerada la base de los demás métodos de eliminación. Consiste de dos etapas: eliminación y sustitución hacia atrás."
   ]
  },
  {
   "cell_type": "code",
   "execution_count": 74,
   "metadata": {},
   "outputs": [
    {
     "data": {
      "text/plain": [
       "(5, 5)"
      ]
     },
     "execution_count": 74,
     "metadata": {},
     "output_type": "execute_result"
    }
   ],
   "source": [
    "import numpy as np  \n",
    "\n",
    "A = np.array([\n",
    "    [0, 7, -1, 3, 1],\n",
    "    [2, 3, 4, 1, 7],\n",
    "    [6, 2, 0, 2, -1],\n",
    "    [2, 1, 2, 0, 2],\n",
    "    [3, 4, 1, -2, 1]\n",
    "], float)\n",
    "\n",
    "b = np.array([5, 7, 2, 3, 4], float)\n",
    "n = len(b)\n",
    "x = np.zeros(n, float)\n",
    "A.shape"
   ]
  },
  {
   "cell_type": "markdown",
   "metadata": {},
   "source": [
    "La solucion analitica es x = {0.4444, 0.555, 0.666, 0.222, 0.222}"
   ]
  },
  {
   "cell_type": "markdown",
   "metadata": {},
   "source": [
    "**Gauss Elimination**"
   ]
  },
  {
   "cell_type": "code",
   "execution_count": 75,
   "metadata": {},
   "outputs": [
    {
     "name": "stdout",
     "output_type": "stream",
     "text": [
      "[[ 2.00000000e+00  3.00000000e+00  4.00000000e+00  1.00000000e+00\n",
      "   7.00000000e+00]\n",
      " [ 0.00000000e+00  7.00000000e+00 -1.00000000e+00  3.00000000e+00\n",
      "   1.00000000e+00]\n",
      " [ 0.00000000e+00  0.00000000e+00 -1.30000000e+01  2.00000000e+00\n",
      "  -2.10000000e+01]\n",
      " [ 0.00000000e+00  0.00000000e+00  0.00000000e+00  2.81250000e+00\n",
      "   5.81250000e+00]\n",
      " [ 0.00000000e+00  8.88178420e-16  0.00000000e+00 -4.44089210e-16\n",
      "   4.95734797e+00]]\n",
      "[  7.           5.         -14.           0.625        0.15371622]\n"
     ]
    }
   ],
   "source": [
    "# Elimination\n",
    "for k in range(n-1):\n",
    "    if A[k, k] == 0:\n",
    "        for j in range(n):\n",
    "            A[k, j], A[k+1, j] = A[k+1, j], A[k, j] \n",
    "        b[k], b[k+1] = b[k+1], b[k]\n",
    "    for i in range(k+1, n):\n",
    "        if A[i, k] == 0: continue\n",
    "        factor = A[k, k] / A[i, k] \n",
    "        b[i] = b[k] - factor * b[i]       \n",
    "        for j in range(k, n):\n",
    "            A[i, j] = A[k, j] - factor * A[i, j]        \n",
    "print(A)\n",
    "print(b)"
   ]
  },
  {
   "cell_type": "markdown",
   "metadata": {},
   "source": [
    "**Back-Substitution**"
   ]
  },
  {
   "cell_type": "code",
   "execution_count": 76,
   "metadata": {},
   "outputs": [],
   "source": [
    "# Back-substitution\n",
    "x[n-1] = b[n-1] / A[n-1, n-1]\n",
    "for i in range(n-2, -1, -1):\n",
    "    terms = 0\n",
    "    for j in range(i+1, n):\n",
    "        terms += A[i, j] * x[j]\n",
    "    x[i] = (b[i] - terms) / A[i, i]"
   ]
  },
  {
   "cell_type": "code",
   "execution_count": 77,
   "metadata": {},
   "outputs": [
    {
     "name": "stdout",
     "output_type": "stream",
     "text": [
      "Solution of the System: \n",
      "[0.02170543 0.79224806 1.05116279 0.15813953 0.03100775]\n"
     ]
    }
   ],
   "source": [
    "print(f\"Solution of the System: \\n{x}\")"
   ]
  },
  {
   "cell_type": "markdown",
   "metadata": {},
   "source": [
    "## Método de Jacobi"
   ]
  },
  {
   "cell_type": "markdown",
   "metadata": {},
   "source": [
    "Solucion analitica: ${(0.365, -0.233, 0.285, -0.2036)}$ "
   ]
  },
  {
   "cell_type": "code",
   "execution_count": 88,
   "metadata": {},
   "outputs": [
    {
     "name": "stdout",
     "output_type": "stream",
     "text": [
      "Solution of the System: \n",
      "[ 0.36500668 -0.23378501  0.28506797 -0.20362037]\n"
     ]
    }
   ],
   "source": [
    "import numpy as np\n",
    "A = np.array([\n",
    "    [4, 1, 2, -1],\n",
    "    [3, 6, -1, 2],\n",
    "    [2, -1, 5, -3],\n",
    "    [4, 1, -3, -8]\n",
    "])\n",
    "b = np.array([2, -1, 3, 2])\n",
    "(n,) = np.shape(b)\n",
    "x = np.full(n, 1.0, float) # Initial value of x\n",
    "xnew = np.empty(n, float) \n",
    "iterlimit = 100\n",
    "tolerance = 1.0e-6\n",
    "# Iterations\n",
    "for iteration in range(1, iterlimit+1):\n",
    "    for i in range(n):\n",
    "        s = 0 \n",
    "        for j in range(n):\n",
    "            if j != i:\n",
    "                s += A[i, j] * x[j] \n",
    "        xnew[i] = (-1/A[i, i]) * (s - b[i])\n",
    "    if np.all(abs(xnew - x) < tolerance):\n",
    "        break\n",
    "    else:\n",
    "        x = xnew.copy()\n",
    "print(f\"Solution of the System: \\n{xnew}\")"
   ]
  },
  {
   "cell_type": "markdown",
   "metadata": {},
   "source": [
    "## **Método de Gauss-Seidel**"
   ]
  },
  {
   "cell_type": "code",
   "execution_count": 8,
   "metadata": {},
   "outputs": [
    {
     "name": "stdout",
     "output_type": "stream",
     "text": [
      "Solution of the System: \n",
      "[ 0.36500739 -0.23378566  0.28506799 -0.20362001]\n"
     ]
    }
   ],
   "source": [
    "import numpy as np\n",
    "A = np.array([\n",
    "    [4, 1, 2, -1],\n",
    "    [3, 6, -1, 2],\n",
    "    [2, -1, 5, -3],\n",
    "    [4, 1, -3, -8]\n",
    "])\n",
    "b = np.array([2, -1, 3, 2])\n",
    "(n,) = np.shape(b)\n",
    "x = np.full(n, 1.0, float) # Initial value of x\n",
    "xdiff = np.empty(n, float) \n",
    "iterlimit = 100\n",
    "tolerance = 1.0e-6\n",
    "# Iterations\n",
    "for iteration in range(1, iterlimit+1):\n",
    "    for i in range(n):\n",
    "        s = 0 \n",
    "        for j in range(n):\n",
    "            if j != i:\n",
    "                s += A[i, j] * x[j] \n",
    "        xnew = (-1/A[i, i]) * (s - b[i])\n",
    "        xdiff = abs(xnew - x[i])\n",
    "        x[i] = xnew\n",
    "    if np.all(xdiff < tolerance):\n",
    "        break    \n",
    "print(f\"Solution of the System: \\n{x}\")"
   ]
  },
  {
   "cell_type": "markdown",
   "metadata": {},
   "source": [
    "### **Dominio Diagonal**"
   ]
  },
  {
   "cell_type": "markdown",
   "metadata": {},
   "source": [
    "Antes de aplicar el método de Jacobi o el método de Gauss-Seidel, es importante que se cumpla una condición de convergencia. Es conocida como el *Dominio Diagonal* donde el valor absoluto de los elementos en la diagonal principal debe ser mayor que los demás elementos de su fila."
   ]
  },
  {
   "cell_type": "markdown",
   "metadata": {},
   "source": [
    "Ejemplo de no tener Dominio Diagonal:"
   ]
  },
  {
   "cell_type": "markdown",
   "metadata": {},
   "source": [
    "Solución analítica: $(0.3650, -0.2337, 0.2850, -0.2036)$"
   ]
  },
  {
   "cell_type": "code",
   "execution_count": 10,
   "metadata": {},
   "outputs": [
    {
     "name": "stdout",
     "output_type": "stream",
     "text": [
      "La solucion no converge a la solucion Analitica: \n",
      "[ 8.43572172e+109 -2.71345274e+110 -1.09039090e+110  6.32980450e+110]\n"
     ]
    }
   ],
   "source": [
    "A = np.array([\n",
    "    [2, -1, 5, -3],\n",
    "    [4, 1, 2, -1],\n",
    "    [4, 1, -3, -8],\n",
    "    [3, 6, -1, 2]\n",
    "]) \n",
    "b = np.array([3, 2, 2, -1])\n",
    "# Aplicamos Gauss-Seidel\n",
    "(n,) = np.shape(b)\n",
    "x = np.full(n, 1.0, float) # Initial value of x\n",
    "xdiff = np.empty(n, float) \n",
    "iterlimit = 100\n",
    "tolerance = 1.0e-6\n",
    "# Iterations\n",
    "for iteration in range(1, iterlimit+1):\n",
    "    for i in range(n):\n",
    "        s = 0 \n",
    "        for j in range(n):\n",
    "            if j != i:\n",
    "                s += A[i, j] * x[j] \n",
    "        xnew = (-1/A[i, i]) * (s - b[i])\n",
    "        xdiff = abs(xnew - x[i])\n",
    "        x[i] = xnew\n",
    "    if np.all(xdiff < tolerance):\n",
    "        break    \n",
    "print(f\"La solucion no converge a la solucion Analitica: \\n{x}\")"
   ]
  },
  {
   "cell_type": "markdown",
   "metadata": {},
   "source": [
    "## **Linear System Solution in Numpy and SciPy**"
   ]
  },
  {
   "cell_type": "markdown",
   "metadata": {},
   "source": [
    "Solución analítica: $(0.3650, -0.2337, 0.2850, -0.2036)$"
   ]
  },
  {
   "cell_type": "code",
   "execution_count": 15,
   "metadata": {},
   "outputs": [
    {
     "name": "stdout",
     "output_type": "stream",
     "text": [
      "[ 0.36500754 -0.23378582  0.28506787 -0.20361991]\n"
     ]
    }
   ],
   "source": [
    "import numpy as np\n",
    "A = np.array([\n",
    "    [2, -1, 5, -3],\n",
    "    [4, 1, 2, -1],\n",
    "    [4, 1, -3, -8],\n",
    "    [3, 6, -1, 2]\n",
    "], float) \n",
    "b = np.array([3, 2, 2, -1], float)\n",
    "\n",
    "from scipy.linalg import solve, inv\n",
    "x = solve(A, b)\n",
    "print(x)"
   ]
  },
  {
   "cell_type": "code",
   "execution_count": 16,
   "metadata": {},
   "outputs": [
    {
     "name": "stdout",
     "output_type": "stream",
     "text": [
      "[ 0.36500754 -0.23378582  0.28506787 -0.20361991]\n"
     ]
    }
   ],
   "source": [
    "x = np.dot(inv(A), b)  \n",
    "print(x)"
   ]
  },
  {
   "cell_type": "code",
   "execution_count": 20,
   "metadata": {},
   "outputs": [
    {
     "name": "stdout",
     "output_type": "stream",
     "text": [
      "[ 0.36500754 -0.23378582  0.28506787 -0.20361991]\n"
     ]
    }
   ],
   "source": [
    "x = np.linalg.solve(A, b)\n",
    "print(x)"
   ]
  }
 ],
 "metadata": {
  "kernelspec": {
   "display_name": "pytorch",
   "language": "python",
   "name": "python3"
  },
  "language_info": {
   "codemirror_mode": {
    "name": "ipython",
    "version": 3
   },
   "file_extension": ".py",
   "mimetype": "text/x-python",
   "name": "python",
   "nbconvert_exporter": "python",
   "pygments_lexer": "ipython3",
   "version": "3.11.3"
  }
 },
 "nbformat": 4,
 "nbformat_minor": 2
}
