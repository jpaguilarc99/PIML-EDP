{
 "cells": [
  {
   "cell_type": "markdown",
   "metadata": {},
   "source": [
    "### **Physics-Informed Neural Networks and Symbolic Regression**\n",
    "https://arxiv.org/pdf/2307.08107.pdf"
   ]
  },
  {
   "cell_type": "markdown",
   "metadata": {},
   "source": [
    "#### **Caso de estudio**"
   ]
  },
  {
   "cell_type": "markdown",
   "metadata": {},
   "source": [
    "- du1 / dt = e^(-t/10) * u2 * u3\n",
    "- du2 / dt = u1 * u3\n",
    "- du3 / dt = -2 * u1 * u2\n",
    "\n",
    "Con condiciones iniciales:\n",
    "\n",
    "- u1(0) = 1\n",
    "- u2(0) = 0.8\n",
    "- u3(0) = 0.5"
   ]
  },
  {
   "cell_type": "markdown",
   "metadata": {},
   "source": [
    "Transformamos las ED:\n",
    "\n",
    "- du1 / dt = f1(t, u1, u2, u3)\n",
    "- du2 / dt = f2(t, u1, u2, u3)\n",
    "- du3 / dt = a * u1 * u2 + b\n",
    "\n",
    "Donde f1 y f2 son funciones desconocidas, y a y b son los parametros desconocidos."
   ]
  },
  {
   "cell_type": "markdown",
   "metadata": {},
   "source": [
    "**PINN for System Identification**"
   ]
  },
  {
   "cell_type": "code",
   "execution_count": 1,
   "metadata": {},
   "outputs": [],
   "source": [
    "import pandas as pd\n",
    "import numpy as np  \n",
    "import matplotlib.pyplot as plt \n",
    "from scipy.integrate import solve_ivp\n",
    "\n",
    "import tensorflow as tf  \n",
    "from tensorflow import keras\n",
    "tf.random.set_seed(42)"
   ]
  },
  {
   "cell_type": "markdown",
   "metadata": {},
   "source": [
    "<img src=\"images/arch_si.webp\">"
   ]
  },
  {
   "cell_type": "markdown",
   "metadata": {},
   "source": [
    "**Red neuronal u_net**"
   ]
  },
  {
   "cell_type": "code",
   "execution_count": 2,
   "metadata": {},
   "outputs": [],
   "source": [
    "def u_net(u_input):\n",
    "    \"\"\"\n",
    "    Red que va a predecir los valores de u\n",
    "    Args:\n",
    "        u_input: entrada de la u-net\n",
    "\n",
    "    Outputs:\n",
    "        output: la salida de la red    \n",
    "    \"\"\"    \n",
    "    hidden = u_input\n",
    "    for _ in range(2):\n",
    "        hidden = tf.keras.layers.Dense(50, activation=\"tanh\")(hidden)\n",
    "    output = tf.keras.layers.Dense(3)(hidden)\n",
    "    return output"
   ]
  },
  {
   "cell_type": "markdown",
   "metadata": {},
   "source": [
    "**Red neuronal auxiliar f_net**"
   ]
  },
  {
   "cell_type": "code",
   "execution_count": 4,
   "metadata": {},
   "outputs": [],
   "source": [
    "class ParameterLayer(tf.keras.layers.Layer):\n",
    "    def __init__(self, a, b, trainable=True):\n",
    "        super(ParameterLayer, self).__init__()\n",
    "        self._a = tf.convert_to_tensor(a, dtype=tf.float32)\n",
    "        self._b = tf.convert_to_tensor(b, dtype=tf.float32)\n",
    "        self.trainable = trainable\n",
    "    \n",
    "    def build(self, input_shape):\n",
    "        self.a = self.add_weight(\"a\", shape=(1,), \n",
    "                                 initializer=tf.keras.initializers.Constant(value=self._a),\n",
    "                                 trainable=self.trainable)\n",
    "        self.b = self.add_weight(\"b\", shape=(1,), \n",
    "                                 initializer=tf.keras.initializers.Constant(value=self._b),\n",
    "                                 trainable=self.trainable)\n",
    "        \n",
    "    def get_config(self):\n",
    "        return super().get_config()\n",
    "    \n",
    "    @classmethod\n",
    "    def from_config(cls, config):\n",
    "        return cls(**config)\n",
    "\n",
    "def f_net(f_inputs, a_init=None, b_init=None):\n",
    "    \"\"\"\n",
    "    Red que va a predecir las funciones f\n",
    "    Args:\n",
    "        f_inputs: lista de entradas para la f-net\n",
    "        a_init: valores iniciales de parametro a\n",
    "        b_init: valores iniciales de parametro b\n",
    "    \n",
    "    Outputs:\n",
    "        output: la salida de la f-net\n",
    "    \"\"\"\n",
    "    hidden = tf.keras.layers.Concatenate()(f_inputs)\n",
    "    for _ in range(2):\n",
    "        hidden = tf.keras.layers.Dense(50, activation=\"tanh\")(hidden)\n",
    "    output = tf.keras.layers.Dense(2)(hidden)\n",
    "    output = ParameterLayer(a_init, b_init)(output)\n",
    "    return output"
   ]
  },
  {
   "cell_type": "markdown",
   "metadata": {},
   "source": [
    "**u-net + f-net = PINN**"
   ]
  },
  {
   "cell_type": "code",
   "execution_count": 5,
   "metadata": {},
   "outputs": [],
   "source": [
    "def create_PINN(a_init=None, b_init=None, verbose=False):\n",
    "    \"\"\"\n",
    "    Definición de la PINN\n",
    "    Args:\n",
    "        a_init: valor inicial de param. a\n",
    "        b_init: valor inicial de param. b\n",
    "        verbose: boolean, model summary\n",
    "    Outputs:\n",
    "        model: PINN model\n",
    "    \"\"\"\n",
    "    # Input\n",
    "    t_input = tf.keras.Input(shape=(1,), name=\"time\")\n",
    "\n",
    "    # u-NN and f-NN\n",
    "    u = u_net(t_input)\n",
    "    f = f_net([t_input, u], a_init, b_init)\n",
    "\n",
    "    # PINN model\n",
    "    model = tf.keras.models.Model(inputs=t_input, outputs=[u, f])\n",
    "\n",
    "    if verbose:\n",
    "        model.summary()\n",
    "    return model"
   ]
  },
  {
   "cell_type": "markdown",
   "metadata": {},
   "source": [
    "#### **ED Loss**"
   ]
  },
  {
   "cell_type": "markdown",
   "metadata": {},
   "source": [
    "<img src=\"./images/ed_loss.webp\">"
   ]
  },
  {
   "cell_type": "code",
   "execution_count": 6,
   "metadata": {},
   "outputs": [],
   "source": [
    "@tf.function\n",
    "def ODE_residual_calculator(t, model):\n",
    "    \"\"\"ED residual calculate\n",
    "    \n",
    "    Args:\n",
    "    ----\n",
    "    t: temporal coordinate\n",
    "    model: PINN model\n",
    "    \n",
    "    Outputs:\n",
    "    --------\n",
    "    ODE_residual: residual of the governing ODE\n",
    "    \"\"\"\n",
    "    \n",
    "    # Retrieve parameters\n",
    "    a = model.layers[-1].a\n",
    "    b = model.layers[-1].b\n",
    "    \n",
    "    with tf.GradientTape() as tape:\n",
    "        tape.watch(t)\n",
    "        u, f = model(t)\n",
    "    \n",
    "    # Calculate gradients\n",
    "    dudt = tape.batch_jacobian(u, t)[:, :, 0]\n",
    "    du1_dt, du2_dt, du3_dt = dudt[:, :1], dudt[:, 1:2], dudt[:, 2:]\n",
    "    \n",
    "    # Compute residuals\n",
    "    res1 = du1_dt - f[:, :1]\n",
    "    res2 = du2_dt - f[:, 1:]\n",
    "    res3 = du3_dt - (a*u[:, :1]*u[:, 1:2] + b)\n",
    "    ODE_residual = tf.concat([res1, res2, res3], axis=1)\n",
    "    \n",
    "    return ODE_residual"
   ]
  },
  {
   "cell_type": "code",
   "execution_count": null,
   "metadata": {},
   "outputs": [],
   "source": []
  }
 ],
 "metadata": {
  "kernelspec": {
   "display_name": "pytorch",
   "language": "python",
   "name": "python3"
  },
  "language_info": {
   "codemirror_mode": {
    "name": "ipython",
    "version": 3
   },
   "file_extension": ".py",
   "mimetype": "text/x-python",
   "name": "python",
   "nbconvert_exporter": "python",
   "pygments_lexer": "ipython3",
   "version": "3.11.3"
  },
  "orig_nbformat": 4
 },
 "nbformat": 4,
 "nbformat_minor": 2
}
