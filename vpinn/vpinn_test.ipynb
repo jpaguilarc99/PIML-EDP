{
 "cells": [
  {
   "cell_type": "code",
   "execution_count": 2,
   "metadata": {},
   "outputs": [
    {
     "name": "stdout",
     "output_type": "stream",
     "text": [
      "L2 norm 1.2533141374588013\n",
      "H1 norm 2.8024957180023193\n",
      "H10 norm 2.5066285133361816\n"
     ]
    }
   ],
   "source": [
    "import torch\n",
    "\n",
    "def compute_integral(y, x):    \n",
    "    integral = torch.trapz(y, x, dim=0)\n",
    "    return integral\n",
    "\n",
    "x = torch.linspace(0, torch.pi, 1000).requires_grad_(True)\n",
    "dx = x[1] - x[0]\n",
    "f = torch.sin(2 * x)\n",
    "\n",
    "df = torch.autograd.grad(f, x, torch.ones_like(x))[0]\n",
    "\n",
    "norm_f_L2 = torch.sqrt(compute_integral(f**2, x))\n",
    "\n",
    "norm_f_prime_L2 = torch.sqrt(compute_integral(df**2, x))\n",
    "\n",
    "norm_f_H10 = torch.sqrt(norm_f_prime_L2**2)\n",
    "\n",
    "norm_f_H1 = torch.sqrt(norm_f_L2**2 + norm_f_prime_L2**2)\n",
    "\n",
    "print(f\"L2 norm {norm_f_L2.item()}\")\n",
    "print(f\"H1 norm {norm_f_H1.item()}\")\n",
    "print(f\"H10 norm {norm_f_H10.item()}\")"
   ]
  },
  {
   "cell_type": "code",
   "execution_count": 10,
   "metadata": {},
   "outputs": [
    {
     "name": "stdout",
     "output_type": "stream",
     "text": [
      "Norma H1 de f:  2.802480826944546\n"
     ]
    }
   ],
   "source": [
    "import numpy as np\n",
    "from scipy import integrate\n",
    "\n",
    "x = np.linspace(0, np.pi, 1000)\n",
    "dx = x[1] - x[0]\n",
    "f = np.sin(2 * x)\n",
    "\n",
    "df = np.gradient(f, dx)\n",
    "\n",
    "norm_f_L2 = np.sqrt(integrate.trapz(f**2, dx=dx))\n",
    "\n",
    "norm_f_prime_L2 = np.sqrt(integrate.trapz(df**2, dx=dx))\n",
    "\n",
    "norm_f_H1 = np.sqrt(norm_f_L2**2 + norm_f_prime_L2**2)\n",
    "\n",
    "print(\"Norma H1 de f: \", norm_f_H1)"
   ]
  }
 ],
 "metadata": {
  "kernelspec": {
   "display_name": "tesis-setup",
   "language": "python",
   "name": "python3"
  },
  "language_info": {
   "codemirror_mode": {
    "name": "ipython",
    "version": 3
   },
   "file_extension": ".py",
   "mimetype": "text/x-python",
   "name": "python",
   "nbconvert_exporter": "python",
   "pygments_lexer": "ipython3",
   "version": "3.11.9"
  }
 },
 "nbformat": 4,
 "nbformat_minor": 2
}
