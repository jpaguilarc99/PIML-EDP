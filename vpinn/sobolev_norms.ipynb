{
 "cells": [
  {
   "cell_type": "code",
   "execution_count": 1,
   "id": "d52fa82f-6aa9-41e0-b888-a15d08b0362f",
   "metadata": {},
   "outputs": [],
   "source": [
    "import numpy as np\n",
    "import sympy as sym"
   ]
  },
  {
   "cell_type": "code",
   "execution_count": 4,
   "id": "136c1684-aabb-43f6-8aeb-98d6d396e20b",
   "metadata": {},
   "outputs": [],
   "source": [
    "def L2_norm(f, x, a, b):\n",
    "    return sym.sqrt(sym.integrate(f**2, (x, a, b)))\n",
    "\n",
    "\n",
    "def H1_norm(f, x, a, b):\n",
    "    return sym.sqrt(L2_norm(f, x, a, b)**2 + L2_norm(f.diff(x), x, a, b)**2)\n",
    "\n",
    "def H1_0_norm(f, x, a, b):\n",
    "    return L2_norm(f.diff(x), x, a, b)"
   ]
  },
  {
   "cell_type": "code",
   "execution_count": 5,
   "id": "cf628f9c-2e78-46be-bbe9-cb1f00d576ee",
   "metadata": {},
   "outputs": [],
   "source": [
    "x = sym.symbols(\"x\")\n",
    "f = sym.sin(2*x)"
   ]
  },
  {
   "cell_type": "code",
   "execution_count": 8,
   "id": "c9593553-0b03-4dca-b3d5-6296edb60ec8",
   "metadata": {},
   "outputs": [
    {
     "data": {
      "text/latex": [
       "$\\displaystyle 1.2533141373155$"
      ],
      "text/plain": [
       "1.25331413731550"
      ]
     },
     "metadata": {},
     "output_type": "display_data"
    },
    {
     "data": {
      "text/latex": [
       "$\\displaystyle 2.80249560819896$"
      ],
      "text/plain": [
       "2.80249560819896"
      ]
     },
     "metadata": {},
     "output_type": "display_data"
    },
    {
     "data": {
      "text/latex": [
       "$\\displaystyle 2.506628274631$"
      ],
      "text/plain": [
       "2.50662827463100"
      ]
     },
     "metadata": {},
     "output_type": "display_data"
    }
   ],
   "source": [
    "display(sym.N(L2_norm(f, x, 0, sym.pi)))\n",
    "display(sym.N(H1_norm(f, x, 0, sym.pi)))\n",
    "display(sym.N(H1_0_norm(f, x, 0, sym.pi)))"
   ]
  },
  {
   "cell_type": "code",
   "execution_count": null,
   "id": "ee6090c8-194f-42a0-afb9-68236f65f9e4",
   "metadata": {},
   "outputs": [],
   "source": []
  }
 ],
 "metadata": {
  "kernelspec": {
   "display_name": "Python 3 (ipykernel)",
   "language": "python",
   "name": "python3"
  },
  "language_info": {
   "codemirror_mode": {
    "name": "ipython",
    "version": 3
   },
   "file_extension": ".py",
   "mimetype": "text/x-python",
   "name": "python",
   "nbconvert_exporter": "python",
   "pygments_lexer": "ipython3",
   "version": "3.11.9"
  }
 },
 "nbformat": 4,
 "nbformat_minor": 5
}
